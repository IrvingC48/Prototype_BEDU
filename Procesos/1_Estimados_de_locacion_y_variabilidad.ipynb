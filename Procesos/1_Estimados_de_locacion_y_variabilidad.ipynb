{
 "metadata": {
  "language_info": {
   "codemirror_mode": {
    "name": "ipython",
    "version": 3
   },
   "file_extension": ".py",
   "mimetype": "text/x-python",
   "name": "python",
   "nbconvert_exporter": "python",
   "pygments_lexer": "ipython3",
   "version": "3.7.8"
  },
  "orig_nbformat": 2,
  "kernelspec": {
   "name": "python378jvsc74a57bd057baa5815c940fdaff4d14510622de9616cae602444507ba5d0b6727c008cbd6",
   "display_name": "Python 3.7.8 64-bit"
  },
  "metadata": {
   "interpreter": {
    "hash": "57baa5815c940fdaff4d14510622de9616cae602444507ba5d0b6727c008cbd6"
   }
  }
 },
 "nbformat": 4,
 "nbformat_minor": 2,
 "cells": [
  {
   "source": [
    "# Obteniendo estimados de locación y variabilidad\n",
    "\n",
    "### OBJETIVO\n",
    "\n",
    "- Utilizar `estimados de locación y variabilidad` para describir las `columnas numéricas` de un dataset"
   ],
   "cell_type": "markdown",
   "metadata": {}
  },
  {
   "source": [
    "## Carga general de datos\n",
    "\n",
    "Para obtener nuestras distribuciones, utilizaremos las siguientes librerias y funciones:"
   ],
   "cell_type": "markdown",
   "metadata": {}
  },
  {
   "cell_type": "code",
   "execution_count": 1,
   "metadata": {},
   "outputs": [],
   "source": [
    "from scipy import stats\n",
    "import pandas as pd\n",
    "import numpy as np"
   ]
  },
  {
   "cell_type": "code",
   "execution_count": 2,
   "metadata": {},
   "outputs": [],
   "source": [
    "# Nos calcula la media truncada al 10% de una columna x\n",
    "def trim_mean_10(x):\n",
    "    return stats.trim_mean(x, 0.1)"
   ]
  },
  {
   "cell_type": "code",
   "execution_count": 3,
   "metadata": {},
   "outputs": [],
   "source": [
    "# Nos calcula el percentil n de una columna x \n",
    "def percentile(n):\n",
    "    def percentile_(x):\n",
    "        return x.quantile(n)\n",
    "    return percentile_"
   ]
  },
  {
   "source": [
    "Vamos a realizar lo siguiente:\n",
    "\n",
    "- Cargar los documentos que validaremos, para obtener nuestros estimados\n",
    "- Normalizar la fecha en formato de `ns`"
   ],
   "cell_type": "markdown",
   "metadata": {}
  },
  {
   "cell_type": "code",
   "execution_count": 4,
   "metadata": {},
   "outputs": [],
   "source": [
    "df_global = pd.read_csv('../Datasets/Datos_2016_2020.csv')  #Data general"
   ]
  },
  {
   "source": [
    "## Estimados de $PM_{2.5}$ y variables antropogénicas\n"
   ],
   "cell_type": "markdown",
   "metadata": {}
  },
  {
   "cell_type": "code",
   "execution_count": 5,
   "metadata": {},
   "outputs": [
    {
     "output_type": "execute_result",
     "data": {
      "text/plain": [
       "               date id_station  PM2.5  RH   TMP  WDR  WSP\n",
       "0  01/01/2016 01:00        AJM     45  61  15.1  185  1.9\n",
       "1  01/01/2016 01:00        AJU     20  88   5.6  197  1.3\n",
       "2  01/01/2016 01:00        BJU     78  59  16.6  195  1.3\n",
       "3  01/01/2016 01:00        HGM     68  52  17.1   51  0.5\n",
       "4  01/01/2016 01:00        MER     61  58  17.0   97  0.8"
      ],
      "text/html": "<div>\n<style scoped>\n    .dataframe tbody tr th:only-of-type {\n        vertical-align: middle;\n    }\n\n    .dataframe tbody tr th {\n        vertical-align: top;\n    }\n\n    .dataframe thead th {\n        text-align: right;\n    }\n</style>\n<table border=\"1\" class=\"dataframe\">\n  <thead>\n    <tr style=\"text-align: right;\">\n      <th></th>\n      <th>date</th>\n      <th>id_station</th>\n      <th>PM2.5</th>\n      <th>RH</th>\n      <th>TMP</th>\n      <th>WDR</th>\n      <th>WSP</th>\n    </tr>\n  </thead>\n  <tbody>\n    <tr>\n      <th>0</th>\n      <td>01/01/2016 01:00</td>\n      <td>AJM</td>\n      <td>45</td>\n      <td>61</td>\n      <td>15.1</td>\n      <td>185</td>\n      <td>1.9</td>\n    </tr>\n    <tr>\n      <th>1</th>\n      <td>01/01/2016 01:00</td>\n      <td>AJU</td>\n      <td>20</td>\n      <td>88</td>\n      <td>5.6</td>\n      <td>197</td>\n      <td>1.3</td>\n    </tr>\n    <tr>\n      <th>2</th>\n      <td>01/01/2016 01:00</td>\n      <td>BJU</td>\n      <td>78</td>\n      <td>59</td>\n      <td>16.6</td>\n      <td>195</td>\n      <td>1.3</td>\n    </tr>\n    <tr>\n      <th>3</th>\n      <td>01/01/2016 01:00</td>\n      <td>HGM</td>\n      <td>68</td>\n      <td>52</td>\n      <td>17.1</td>\n      <td>51</td>\n      <td>0.5</td>\n    </tr>\n    <tr>\n      <th>4</th>\n      <td>01/01/2016 01:00</td>\n      <td>MER</td>\n      <td>61</td>\n      <td>58</td>\n      <td>17.0</td>\n      <td>97</td>\n      <td>0.8</td>\n    </tr>\n  </tbody>\n</table>\n</div>"
     },
     "metadata": {},
     "execution_count": 5
    }
   ],
   "source": [
    "df_global.head()"
   ]
  },
  {
   "cell_type": "code",
   "execution_count": 7,
   "metadata": {},
   "outputs": [
    {
     "output_type": "execute_result",
     "data": {
      "text/plain": [
       "date           object\n",
       "id_station     object\n",
       "PM2.5           int64\n",
       "RH              int64\n",
       "TMP           float64\n",
       "WDR             int64\n",
       "WSP           float64\n",
       "dtype: object"
      ]
     },
     "metadata": {},
     "execution_count": 7
    }
   ],
   "source": [
    "df_global.dtypes"
   ]
  },
  {
   "cell_type": "code",
   "execution_count": 11,
   "metadata": {},
   "outputs": [],
   "source": [
    "df_global.rename(columns={'PM2.5': 'PM2_5'}, inplace=True)"
   ]
  },
  {
   "source": [
    "Vamos a validar los siguientes `estimados de locación y variabilidad`, esto a nivel `station`:\n",
    "\n",
    "    - Media o promedio\n",
    "    - Mediana\n",
    "    - Media truncada al 10%\n",
    "    - Desviación Estándar\n",
    "    - Dato Mínimo\n",
    "    - Percentil 25\n",
    "    - Percentil 50\n",
    "    - Percentil 75\n",
    "    - Dato Máxino\n",
    "    - Rango\n",
    "    - Rango Intercuartílico (IQR)"
   ],
   "cell_type": "markdown",
   "metadata": {}
  },
  {
   "cell_type": "code",
   "execution_count": 13,
   "metadata": {},
   "outputs": [
    {
     "output_type": "execute_result",
     "data": {
      "text/plain": [
       "                media  mediana  media_truncada  desv_estandar  minimo  \\\n",
       "id_station                                                              \n",
       "AJM         19.153503       17       17.752157      12.349253       1   \n",
       "AJU         19.314821       17       17.789067      14.511454       1   \n",
       "BJU         21.961316       19       20.339694      14.094390       1   \n",
       "GAM         23.893179       21       22.078107      15.673482       1   \n",
       "HGM         23.730537       21       21.954238      15.545030       1   \n",
       "INN         13.869627       12       12.719888       9.606686       1   \n",
       "MER         25.103629       22       23.509410      16.162922       1   \n",
       "MGH         23.343532       21       21.716301      14.528993       1   \n",
       "MON         20.414607       18       18.578729      14.415153       1   \n",
       "MPA         19.354674       16       17.598002      14.138447       1   \n",
       "NEZ         23.681214       20       21.499646      17.554138       1   \n",
       "PED         18.432719       16       17.079690      11.893035       1   \n",
       "SAG         24.119988       22       22.561978      16.392028       1   \n",
       "SFE         18.259201       16       16.763469      12.177110       1   \n",
       "TLA         24.369255       22       22.939808      14.582226       1   \n",
       "UAX         21.091855       19       19.693221      13.783416       1   \n",
       "UIZ         22.764885       20       21.239875      14.824335       1   \n",
       "XAL         28.811437       25       26.378880      20.319594       1   \n",
       "\n",
       "            percentile_25  percentile_50  percentile_75  maximo  rango  IQR  \n",
       "id_station                                                                   \n",
       "AJM                    10             17             25     117    116   15  \n",
       "AJU                     9             17             26     302    301   17  \n",
       "BJU                    12             19             29     250    249   17  \n",
       "GAM                    13             21             31     359    358   18  \n",
       "HGM                    13             21             31     346    345   18  \n",
       "INN                     7             12             18     246    245   11  \n",
       "MER                    14             22             33     380    379   19  \n",
       "MGH                    13             21             30     173    172   17  \n",
       "MON                    11             18             26     227    226   15  \n",
       "MPA                     9             16             26     211    210   17  \n",
       "NEZ                    12             20             31     393    392   19  \n",
       "PED                    10             16             24     125    124   14  \n",
       "SAG                    13             22             32     698    697   19  \n",
       "SFE                    10             16             24     179    178   14  \n",
       "TLA                    14             22             32     212    211   18  \n",
       "UAX                    12             19             28     209    208   16  \n",
       "UIZ                    12             20             30     225    224   18  \n",
       "XAL                    15             25             38     415    414   23  "
      ],
      "text/html": "<div>\n<style scoped>\n    .dataframe tbody tr th:only-of-type {\n        vertical-align: middle;\n    }\n\n    .dataframe tbody tr th {\n        vertical-align: top;\n    }\n\n    .dataframe thead th {\n        text-align: right;\n    }\n</style>\n<table border=\"1\" class=\"dataframe\">\n  <thead>\n    <tr style=\"text-align: right;\">\n      <th></th>\n      <th>media</th>\n      <th>mediana</th>\n      <th>media_truncada</th>\n      <th>desv_estandar</th>\n      <th>minimo</th>\n      <th>percentile_25</th>\n      <th>percentile_50</th>\n      <th>percentile_75</th>\n      <th>maximo</th>\n      <th>rango</th>\n      <th>IQR</th>\n    </tr>\n    <tr>\n      <th>id_station</th>\n      <th></th>\n      <th></th>\n      <th></th>\n      <th></th>\n      <th></th>\n      <th></th>\n      <th></th>\n      <th></th>\n      <th></th>\n      <th></th>\n      <th></th>\n    </tr>\n  </thead>\n  <tbody>\n    <tr>\n      <th>AJM</th>\n      <td>19.153503</td>\n      <td>17</td>\n      <td>17.752157</td>\n      <td>12.349253</td>\n      <td>1</td>\n      <td>10</td>\n      <td>17</td>\n      <td>25</td>\n      <td>117</td>\n      <td>116</td>\n      <td>15</td>\n    </tr>\n    <tr>\n      <th>AJU</th>\n      <td>19.314821</td>\n      <td>17</td>\n      <td>17.789067</td>\n      <td>14.511454</td>\n      <td>1</td>\n      <td>9</td>\n      <td>17</td>\n      <td>26</td>\n      <td>302</td>\n      <td>301</td>\n      <td>17</td>\n    </tr>\n    <tr>\n      <th>BJU</th>\n      <td>21.961316</td>\n      <td>19</td>\n      <td>20.339694</td>\n      <td>14.094390</td>\n      <td>1</td>\n      <td>12</td>\n      <td>19</td>\n      <td>29</td>\n      <td>250</td>\n      <td>249</td>\n      <td>17</td>\n    </tr>\n    <tr>\n      <th>GAM</th>\n      <td>23.893179</td>\n      <td>21</td>\n      <td>22.078107</td>\n      <td>15.673482</td>\n      <td>1</td>\n      <td>13</td>\n      <td>21</td>\n      <td>31</td>\n      <td>359</td>\n      <td>358</td>\n      <td>18</td>\n    </tr>\n    <tr>\n      <th>HGM</th>\n      <td>23.730537</td>\n      <td>21</td>\n      <td>21.954238</td>\n      <td>15.545030</td>\n      <td>1</td>\n      <td>13</td>\n      <td>21</td>\n      <td>31</td>\n      <td>346</td>\n      <td>345</td>\n      <td>18</td>\n    </tr>\n    <tr>\n      <th>INN</th>\n      <td>13.869627</td>\n      <td>12</td>\n      <td>12.719888</td>\n      <td>9.606686</td>\n      <td>1</td>\n      <td>7</td>\n      <td>12</td>\n      <td>18</td>\n      <td>246</td>\n      <td>245</td>\n      <td>11</td>\n    </tr>\n    <tr>\n      <th>MER</th>\n      <td>25.103629</td>\n      <td>22</td>\n      <td>23.509410</td>\n      <td>16.162922</td>\n      <td>1</td>\n      <td>14</td>\n      <td>22</td>\n      <td>33</td>\n      <td>380</td>\n      <td>379</td>\n      <td>19</td>\n    </tr>\n    <tr>\n      <th>MGH</th>\n      <td>23.343532</td>\n      <td>21</td>\n      <td>21.716301</td>\n      <td>14.528993</td>\n      <td>1</td>\n      <td>13</td>\n      <td>21</td>\n      <td>30</td>\n      <td>173</td>\n      <td>172</td>\n      <td>17</td>\n    </tr>\n    <tr>\n      <th>MON</th>\n      <td>20.414607</td>\n      <td>18</td>\n      <td>18.578729</td>\n      <td>14.415153</td>\n      <td>1</td>\n      <td>11</td>\n      <td>18</td>\n      <td>26</td>\n      <td>227</td>\n      <td>226</td>\n      <td>15</td>\n    </tr>\n    <tr>\n      <th>MPA</th>\n      <td>19.354674</td>\n      <td>16</td>\n      <td>17.598002</td>\n      <td>14.138447</td>\n      <td>1</td>\n      <td>9</td>\n      <td>16</td>\n      <td>26</td>\n      <td>211</td>\n      <td>210</td>\n      <td>17</td>\n    </tr>\n    <tr>\n      <th>NEZ</th>\n      <td>23.681214</td>\n      <td>20</td>\n      <td>21.499646</td>\n      <td>17.554138</td>\n      <td>1</td>\n      <td>12</td>\n      <td>20</td>\n      <td>31</td>\n      <td>393</td>\n      <td>392</td>\n      <td>19</td>\n    </tr>\n    <tr>\n      <th>PED</th>\n      <td>18.432719</td>\n      <td>16</td>\n      <td>17.079690</td>\n      <td>11.893035</td>\n      <td>1</td>\n      <td>10</td>\n      <td>16</td>\n      <td>24</td>\n      <td>125</td>\n      <td>124</td>\n      <td>14</td>\n    </tr>\n    <tr>\n      <th>SAG</th>\n      <td>24.119988</td>\n      <td>22</td>\n      <td>22.561978</td>\n      <td>16.392028</td>\n      <td>1</td>\n      <td>13</td>\n      <td>22</td>\n      <td>32</td>\n      <td>698</td>\n      <td>697</td>\n      <td>19</td>\n    </tr>\n    <tr>\n      <th>SFE</th>\n      <td>18.259201</td>\n      <td>16</td>\n      <td>16.763469</td>\n      <td>12.177110</td>\n      <td>1</td>\n      <td>10</td>\n      <td>16</td>\n      <td>24</td>\n      <td>179</td>\n      <td>178</td>\n      <td>14</td>\n    </tr>\n    <tr>\n      <th>TLA</th>\n      <td>24.369255</td>\n      <td>22</td>\n      <td>22.939808</td>\n      <td>14.582226</td>\n      <td>1</td>\n      <td>14</td>\n      <td>22</td>\n      <td>32</td>\n      <td>212</td>\n      <td>211</td>\n      <td>18</td>\n    </tr>\n    <tr>\n      <th>UAX</th>\n      <td>21.091855</td>\n      <td>19</td>\n      <td>19.693221</td>\n      <td>13.783416</td>\n      <td>1</td>\n      <td>12</td>\n      <td>19</td>\n      <td>28</td>\n      <td>209</td>\n      <td>208</td>\n      <td>16</td>\n    </tr>\n    <tr>\n      <th>UIZ</th>\n      <td>22.764885</td>\n      <td>20</td>\n      <td>21.239875</td>\n      <td>14.824335</td>\n      <td>1</td>\n      <td>12</td>\n      <td>20</td>\n      <td>30</td>\n      <td>225</td>\n      <td>224</td>\n      <td>18</td>\n    </tr>\n    <tr>\n      <th>XAL</th>\n      <td>28.811437</td>\n      <td>25</td>\n      <td>26.378880</td>\n      <td>20.319594</td>\n      <td>1</td>\n      <td>15</td>\n      <td>25</td>\n      <td>38</td>\n      <td>415</td>\n      <td>414</td>\n      <td>23</td>\n    </tr>\n  </tbody>\n</table>\n</div>"
     },
     "metadata": {},
     "execution_count": 13
    }
   ],
   "source": [
    "df_global.groupby('id_station').PM2_5.agg(\n",
    "    media='mean',\n",
    "    mediana='median',\n",
    "    media_truncada=trim_mean_10,\n",
    "    desv_estandar='std',\n",
    "    minimo='min',\n",
    "    percentile_25=percentile(0.25),\n",
    "    percentile_50=percentile(0.5),\n",
    "    percentile_75=percentile(0.75),\n",
    "    maximo='max',\n",
    "    rango=np.ptp, # max - min\n",
    "    IQR=stats.iqr\n",
    ")"
   ]
  },
  {
   "cell_type": "code",
   "execution_count": 14,
   "metadata": {},
   "outputs": [
    {
     "output_type": "execute_result",
     "data": {
      "text/plain": [
       "                media  mediana  media_truncada  desv_estandar  minimo  \\\n",
       "id_station                                                              \n",
       "AJM         52.762641       53       53.064410      20.535730       2   \n",
       "AJU         70.479903       76       72.453796      22.345575       7   \n",
       "BJU         52.579918       54       52.959460      20.184942       2   \n",
       "GAM         57.464545       59       58.043547      20.425361       6   \n",
       "HGM         48.281173       49       48.517288      19.169283       5   \n",
       "INN         67.133004       72       69.012109      22.466029       5   \n",
       "MER         52.630897       54       53.027145      20.408351       2   \n",
       "MGH         46.991888       46       47.023917      20.674605       1   \n",
       "MON         57.336548       60       58.331617      21.568782       2   \n",
       "MPA         60.938274       63       62.043571      21.342613       3   \n",
       "NEZ         52.058272       53       52.597708      19.229640       3   \n",
       "PED         51.197866       51       51.354401      19.768475       1   \n",
       "SAG         49.850892       51       50.079825      20.972529       3   \n",
       "SFE         57.201026       59       58.031774      20.415894       2   \n",
       "TLA         48.389350       49       48.690281      19.558983       5   \n",
       "UAX         54.733747       57       55.371529      20.279933       3   \n",
       "UIZ         53.873258       55       54.266297      20.511388       3   \n",
       "XAL         48.280499       49       48.607077      18.945216       4   \n",
       "\n",
       "            percentile_25  percentile_50  percentile_75  maximo  rango  IQR  \n",
       "id_station                                                                   \n",
       "AJM                    36             53             70     101     99   34  \n",
       "AJU                    54             76             89     100     93   35  \n",
       "BJU                    36             54             69      94     92   33  \n",
       "GAM                    41             59             74      99     93   33  \n",
       "HGM                    33             49             64      87     82   31  \n",
       "INN                    50             72             87      97     92   37  \n",
       "MER                    36             54             70      95     93   34  \n",
       "MGH                    30             46             65      89     88   35  \n",
       "MON                    40             60             76      93     91   36  \n",
       "MPA                    45             63             79      98     95   34  \n",
       "NEZ                    37             53             68      93     90   31  \n",
       "PED                    35             51             68      92     91   33  \n",
       "SAG                    33             51             67     101     98   34  \n",
       "SFE                    41             59             75      95     93   34  \n",
       "TLA                    32             49             65      87     82   33  \n",
       "UAX                    39             57             71      96     93   32  \n",
       "UIZ                    37             55             71      96     93   34  \n",
       "XAL                    33             49             64      90     86   31  "
      ],
      "text/html": "<div>\n<style scoped>\n    .dataframe tbody tr th:only-of-type {\n        vertical-align: middle;\n    }\n\n    .dataframe tbody tr th {\n        vertical-align: top;\n    }\n\n    .dataframe thead th {\n        text-align: right;\n    }\n</style>\n<table border=\"1\" class=\"dataframe\">\n  <thead>\n    <tr style=\"text-align: right;\">\n      <th></th>\n      <th>media</th>\n      <th>mediana</th>\n      <th>media_truncada</th>\n      <th>desv_estandar</th>\n      <th>minimo</th>\n      <th>percentile_25</th>\n      <th>percentile_50</th>\n      <th>percentile_75</th>\n      <th>maximo</th>\n      <th>rango</th>\n      <th>IQR</th>\n    </tr>\n    <tr>\n      <th>id_station</th>\n      <th></th>\n      <th></th>\n      <th></th>\n      <th></th>\n      <th></th>\n      <th></th>\n      <th></th>\n      <th></th>\n      <th></th>\n      <th></th>\n      <th></th>\n    </tr>\n  </thead>\n  <tbody>\n    <tr>\n      <th>AJM</th>\n      <td>52.762641</td>\n      <td>53</td>\n      <td>53.064410</td>\n      <td>20.535730</td>\n      <td>2</td>\n      <td>36</td>\n      <td>53</td>\n      <td>70</td>\n      <td>101</td>\n      <td>99</td>\n      <td>34</td>\n    </tr>\n    <tr>\n      <th>AJU</th>\n      <td>70.479903</td>\n      <td>76</td>\n      <td>72.453796</td>\n      <td>22.345575</td>\n      <td>7</td>\n      <td>54</td>\n      <td>76</td>\n      <td>89</td>\n      <td>100</td>\n      <td>93</td>\n      <td>35</td>\n    </tr>\n    <tr>\n      <th>BJU</th>\n      <td>52.579918</td>\n      <td>54</td>\n      <td>52.959460</td>\n      <td>20.184942</td>\n      <td>2</td>\n      <td>36</td>\n      <td>54</td>\n      <td>69</td>\n      <td>94</td>\n      <td>92</td>\n      <td>33</td>\n    </tr>\n    <tr>\n      <th>GAM</th>\n      <td>57.464545</td>\n      <td>59</td>\n      <td>58.043547</td>\n      <td>20.425361</td>\n      <td>6</td>\n      <td>41</td>\n      <td>59</td>\n      <td>74</td>\n      <td>99</td>\n      <td>93</td>\n      <td>33</td>\n    </tr>\n    <tr>\n      <th>HGM</th>\n      <td>48.281173</td>\n      <td>49</td>\n      <td>48.517288</td>\n      <td>19.169283</td>\n      <td>5</td>\n      <td>33</td>\n      <td>49</td>\n      <td>64</td>\n      <td>87</td>\n      <td>82</td>\n      <td>31</td>\n    </tr>\n    <tr>\n      <th>INN</th>\n      <td>67.133004</td>\n      <td>72</td>\n      <td>69.012109</td>\n      <td>22.466029</td>\n      <td>5</td>\n      <td>50</td>\n      <td>72</td>\n      <td>87</td>\n      <td>97</td>\n      <td>92</td>\n      <td>37</td>\n    </tr>\n    <tr>\n      <th>MER</th>\n      <td>52.630897</td>\n      <td>54</td>\n      <td>53.027145</td>\n      <td>20.408351</td>\n      <td>2</td>\n      <td>36</td>\n      <td>54</td>\n      <td>70</td>\n      <td>95</td>\n      <td>93</td>\n      <td>34</td>\n    </tr>\n    <tr>\n      <th>MGH</th>\n      <td>46.991888</td>\n      <td>46</td>\n      <td>47.023917</td>\n      <td>20.674605</td>\n      <td>1</td>\n      <td>30</td>\n      <td>46</td>\n      <td>65</td>\n      <td>89</td>\n      <td>88</td>\n      <td>35</td>\n    </tr>\n    <tr>\n      <th>MON</th>\n      <td>57.336548</td>\n      <td>60</td>\n      <td>58.331617</td>\n      <td>21.568782</td>\n      <td>2</td>\n      <td>40</td>\n      <td>60</td>\n      <td>76</td>\n      <td>93</td>\n      <td>91</td>\n      <td>36</td>\n    </tr>\n    <tr>\n      <th>MPA</th>\n      <td>60.938274</td>\n      <td>63</td>\n      <td>62.043571</td>\n      <td>21.342613</td>\n      <td>3</td>\n      <td>45</td>\n      <td>63</td>\n      <td>79</td>\n      <td>98</td>\n      <td>95</td>\n      <td>34</td>\n    </tr>\n    <tr>\n      <th>NEZ</th>\n      <td>52.058272</td>\n      <td>53</td>\n      <td>52.597708</td>\n      <td>19.229640</td>\n      <td>3</td>\n      <td>37</td>\n      <td>53</td>\n      <td>68</td>\n      <td>93</td>\n      <td>90</td>\n      <td>31</td>\n    </tr>\n    <tr>\n      <th>PED</th>\n      <td>51.197866</td>\n      <td>51</td>\n      <td>51.354401</td>\n      <td>19.768475</td>\n      <td>1</td>\n      <td>35</td>\n      <td>51</td>\n      <td>68</td>\n      <td>92</td>\n      <td>91</td>\n      <td>33</td>\n    </tr>\n    <tr>\n      <th>SAG</th>\n      <td>49.850892</td>\n      <td>51</td>\n      <td>50.079825</td>\n      <td>20.972529</td>\n      <td>3</td>\n      <td>33</td>\n      <td>51</td>\n      <td>67</td>\n      <td>101</td>\n      <td>98</td>\n      <td>34</td>\n    </tr>\n    <tr>\n      <th>SFE</th>\n      <td>57.201026</td>\n      <td>59</td>\n      <td>58.031774</td>\n      <td>20.415894</td>\n      <td>2</td>\n      <td>41</td>\n      <td>59</td>\n      <td>75</td>\n      <td>95</td>\n      <td>93</td>\n      <td>34</td>\n    </tr>\n    <tr>\n      <th>TLA</th>\n      <td>48.389350</td>\n      <td>49</td>\n      <td>48.690281</td>\n      <td>19.558983</td>\n      <td>5</td>\n      <td>32</td>\n      <td>49</td>\n      <td>65</td>\n      <td>87</td>\n      <td>82</td>\n      <td>33</td>\n    </tr>\n    <tr>\n      <th>UAX</th>\n      <td>54.733747</td>\n      <td>57</td>\n      <td>55.371529</td>\n      <td>20.279933</td>\n      <td>3</td>\n      <td>39</td>\n      <td>57</td>\n      <td>71</td>\n      <td>96</td>\n      <td>93</td>\n      <td>32</td>\n    </tr>\n    <tr>\n      <th>UIZ</th>\n      <td>53.873258</td>\n      <td>55</td>\n      <td>54.266297</td>\n      <td>20.511388</td>\n      <td>3</td>\n      <td>37</td>\n      <td>55</td>\n      <td>71</td>\n      <td>96</td>\n      <td>93</td>\n      <td>34</td>\n    </tr>\n    <tr>\n      <th>XAL</th>\n      <td>48.280499</td>\n      <td>49</td>\n      <td>48.607077</td>\n      <td>18.945216</td>\n      <td>4</td>\n      <td>33</td>\n      <td>49</td>\n      <td>64</td>\n      <td>90</td>\n      <td>86</td>\n      <td>31</td>\n    </tr>\n  </tbody>\n</table>\n</div>"
     },
     "metadata": {},
     "execution_count": 14
    }
   ],
   "source": [
    "df_global.groupby('id_station').RH.agg(\n",
    "    media='mean',\n",
    "    mediana='median',\n",
    "    media_truncada=trim_mean_10,\n",
    "    desv_estandar='std',\n",
    "    minimo='min',\n",
    "    percentile_25=percentile(0.25),\n",
    "    percentile_50=percentile(0.5),\n",
    "    percentile_75=percentile(0.75),\n",
    "    maximo='max',\n",
    "    rango=np.ptp, # max - min\n",
    "    IQR=stats.iqr\n",
    ")"
   ]
  },
  {
   "cell_type": "code",
   "execution_count": 15,
   "metadata": {},
   "outputs": [
    {
     "output_type": "execute_result",
     "data": {
      "text/plain": [
       "                media  mediana  media_truncada  desv_estandar  minimo  \\\n",
       "id_station                                                              \n",
       "AJM         16.131600     15.8       16.084483       3.785415     1.1   \n",
       "AJU         10.123797     10.6       10.339948       5.658911    -6.2   \n",
       "BJU         17.707097     17.2       17.656742       4.267441     2.8   \n",
       "GAM         18.232813     17.7       18.178271       4.362010     1.9   \n",
       "HGM         17.580150     17.1       17.519764       4.215733     3.1   \n",
       "INN         10.857725     10.5       10.798188       4.969519    -3.5   \n",
       "MER         17.806035     17.3       17.750899       4.366044     2.0   \n",
       "MGH         17.500604     16.9       17.392070       4.466399     2.4   \n",
       "MON         17.623488     17.2       17.628101       5.562761     1.2   \n",
       "MPA         14.795386     14.4       14.627928       4.485424     0.7   \n",
       "NEZ         16.747343     16.3       16.699282       4.365621    -0.3   \n",
       "PED         17.364876     16.8       17.249349       4.274470     5.4   \n",
       "SAG         18.465377     18.0       18.430138       4.690178     1.9   \n",
       "SFE         15.042153     14.6       14.978444       3.985591     0.6   \n",
       "TLA         17.055623     16.6       17.011977       4.632725     1.5   \n",
       "UAX         17.086106     16.7       17.073670       4.705755     1.9   \n",
       "UIZ         18.997895     18.6       18.981574       4.545547     3.3   \n",
       "XAL         17.197621     16.9       17.191097       4.218078     1.5   \n",
       "\n",
       "            percentile_25  percentile_50  percentile_75  maximo  rango  IQR  \n",
       "id_station                                                                   \n",
       "AJM                  13.6           15.8           18.7    27.9   26.8  5.1  \n",
       "AJU                   6.2           10.6           14.5    23.4   29.6  8.3  \n",
       "BJU                  14.9           17.2           20.8    31.2   28.4  5.9  \n",
       "GAM                  15.4           17.7           21.3    32.2   30.3  5.9  \n",
       "HGM                  14.8           17.1           20.5    31.2   28.1  5.7  \n",
       "INN                   7.3           10.5           14.5    25.8   29.3  7.2  \n",
       "MER                  14.9           17.3           20.9    30.6   28.6  6.0  \n",
       "MGH                  14.5           16.9           20.7    31.5   29.1  6.2  \n",
       "MON                  14.0           17.2           21.8    33.4   32.2  7.8  \n",
       "MPA                  11.4           14.4           17.9    29.0   28.3  6.5  \n",
       "NEZ                  13.9           16.3           19.8    30.1   30.4  5.9  \n",
       "PED                  14.3           16.8           20.5    29.9   24.5  6.2  \n",
       "SAG                  15.4           18.0           21.8    31.3   29.4  6.4  \n",
       "SFE                  12.4           14.6           17.9    27.4   26.8  5.5  \n",
       "TLA                  14.0           16.6           20.4    30.8   29.3  6.4  \n",
       "UAX                  14.0           16.7           20.5    32.1   30.2  6.5  \n",
       "UIZ                  16.0           18.6           22.2    31.7   28.4  6.2  \n",
       "XAL                  14.4           16.9           20.2    30.1   28.6  5.8  "
      ],
      "text/html": "<div>\n<style scoped>\n    .dataframe tbody tr th:only-of-type {\n        vertical-align: middle;\n    }\n\n    .dataframe tbody tr th {\n        vertical-align: top;\n    }\n\n    .dataframe thead th {\n        text-align: right;\n    }\n</style>\n<table border=\"1\" class=\"dataframe\">\n  <thead>\n    <tr style=\"text-align: right;\">\n      <th></th>\n      <th>media</th>\n      <th>mediana</th>\n      <th>media_truncada</th>\n      <th>desv_estandar</th>\n      <th>minimo</th>\n      <th>percentile_25</th>\n      <th>percentile_50</th>\n      <th>percentile_75</th>\n      <th>maximo</th>\n      <th>rango</th>\n      <th>IQR</th>\n    </tr>\n    <tr>\n      <th>id_station</th>\n      <th></th>\n      <th></th>\n      <th></th>\n      <th></th>\n      <th></th>\n      <th></th>\n      <th></th>\n      <th></th>\n      <th></th>\n      <th></th>\n      <th></th>\n    </tr>\n  </thead>\n  <tbody>\n    <tr>\n      <th>AJM</th>\n      <td>16.131600</td>\n      <td>15.8</td>\n      <td>16.084483</td>\n      <td>3.785415</td>\n      <td>1.1</td>\n      <td>13.6</td>\n      <td>15.8</td>\n      <td>18.7</td>\n      <td>27.9</td>\n      <td>26.8</td>\n      <td>5.1</td>\n    </tr>\n    <tr>\n      <th>AJU</th>\n      <td>10.123797</td>\n      <td>10.6</td>\n      <td>10.339948</td>\n      <td>5.658911</td>\n      <td>-6.2</td>\n      <td>6.2</td>\n      <td>10.6</td>\n      <td>14.5</td>\n      <td>23.4</td>\n      <td>29.6</td>\n      <td>8.3</td>\n    </tr>\n    <tr>\n      <th>BJU</th>\n      <td>17.707097</td>\n      <td>17.2</td>\n      <td>17.656742</td>\n      <td>4.267441</td>\n      <td>2.8</td>\n      <td>14.9</td>\n      <td>17.2</td>\n      <td>20.8</td>\n      <td>31.2</td>\n      <td>28.4</td>\n      <td>5.9</td>\n    </tr>\n    <tr>\n      <th>GAM</th>\n      <td>18.232813</td>\n      <td>17.7</td>\n      <td>18.178271</td>\n      <td>4.362010</td>\n      <td>1.9</td>\n      <td>15.4</td>\n      <td>17.7</td>\n      <td>21.3</td>\n      <td>32.2</td>\n      <td>30.3</td>\n      <td>5.9</td>\n    </tr>\n    <tr>\n      <th>HGM</th>\n      <td>17.580150</td>\n      <td>17.1</td>\n      <td>17.519764</td>\n      <td>4.215733</td>\n      <td>3.1</td>\n      <td>14.8</td>\n      <td>17.1</td>\n      <td>20.5</td>\n      <td>31.2</td>\n      <td>28.1</td>\n      <td>5.7</td>\n    </tr>\n    <tr>\n      <th>INN</th>\n      <td>10.857725</td>\n      <td>10.5</td>\n      <td>10.798188</td>\n      <td>4.969519</td>\n      <td>-3.5</td>\n      <td>7.3</td>\n      <td>10.5</td>\n      <td>14.5</td>\n      <td>25.8</td>\n      <td>29.3</td>\n      <td>7.2</td>\n    </tr>\n    <tr>\n      <th>MER</th>\n      <td>17.806035</td>\n      <td>17.3</td>\n      <td>17.750899</td>\n      <td>4.366044</td>\n      <td>2.0</td>\n      <td>14.9</td>\n      <td>17.3</td>\n      <td>20.9</td>\n      <td>30.6</td>\n      <td>28.6</td>\n      <td>6.0</td>\n    </tr>\n    <tr>\n      <th>MGH</th>\n      <td>17.500604</td>\n      <td>16.9</td>\n      <td>17.392070</td>\n      <td>4.466399</td>\n      <td>2.4</td>\n      <td>14.5</td>\n      <td>16.9</td>\n      <td>20.7</td>\n      <td>31.5</td>\n      <td>29.1</td>\n      <td>6.2</td>\n    </tr>\n    <tr>\n      <th>MON</th>\n      <td>17.623488</td>\n      <td>17.2</td>\n      <td>17.628101</td>\n      <td>5.562761</td>\n      <td>1.2</td>\n      <td>14.0</td>\n      <td>17.2</td>\n      <td>21.8</td>\n      <td>33.4</td>\n      <td>32.2</td>\n      <td>7.8</td>\n    </tr>\n    <tr>\n      <th>MPA</th>\n      <td>14.795386</td>\n      <td>14.4</td>\n      <td>14.627928</td>\n      <td>4.485424</td>\n      <td>0.7</td>\n      <td>11.4</td>\n      <td>14.4</td>\n      <td>17.9</td>\n      <td>29.0</td>\n      <td>28.3</td>\n      <td>6.5</td>\n    </tr>\n    <tr>\n      <th>NEZ</th>\n      <td>16.747343</td>\n      <td>16.3</td>\n      <td>16.699282</td>\n      <td>4.365621</td>\n      <td>-0.3</td>\n      <td>13.9</td>\n      <td>16.3</td>\n      <td>19.8</td>\n      <td>30.1</td>\n      <td>30.4</td>\n      <td>5.9</td>\n    </tr>\n    <tr>\n      <th>PED</th>\n      <td>17.364876</td>\n      <td>16.8</td>\n      <td>17.249349</td>\n      <td>4.274470</td>\n      <td>5.4</td>\n      <td>14.3</td>\n      <td>16.8</td>\n      <td>20.5</td>\n      <td>29.9</td>\n      <td>24.5</td>\n      <td>6.2</td>\n    </tr>\n    <tr>\n      <th>SAG</th>\n      <td>18.465377</td>\n      <td>18.0</td>\n      <td>18.430138</td>\n      <td>4.690178</td>\n      <td>1.9</td>\n      <td>15.4</td>\n      <td>18.0</td>\n      <td>21.8</td>\n      <td>31.3</td>\n      <td>29.4</td>\n      <td>6.4</td>\n    </tr>\n    <tr>\n      <th>SFE</th>\n      <td>15.042153</td>\n      <td>14.6</td>\n      <td>14.978444</td>\n      <td>3.985591</td>\n      <td>0.6</td>\n      <td>12.4</td>\n      <td>14.6</td>\n      <td>17.9</td>\n      <td>27.4</td>\n      <td>26.8</td>\n      <td>5.5</td>\n    </tr>\n    <tr>\n      <th>TLA</th>\n      <td>17.055623</td>\n      <td>16.6</td>\n      <td>17.011977</td>\n      <td>4.632725</td>\n      <td>1.5</td>\n      <td>14.0</td>\n      <td>16.6</td>\n      <td>20.4</td>\n      <td>30.8</td>\n      <td>29.3</td>\n      <td>6.4</td>\n    </tr>\n    <tr>\n      <th>UAX</th>\n      <td>17.086106</td>\n      <td>16.7</td>\n      <td>17.073670</td>\n      <td>4.705755</td>\n      <td>1.9</td>\n      <td>14.0</td>\n      <td>16.7</td>\n      <td>20.5</td>\n      <td>32.1</td>\n      <td>30.2</td>\n      <td>6.5</td>\n    </tr>\n    <tr>\n      <th>UIZ</th>\n      <td>18.997895</td>\n      <td>18.6</td>\n      <td>18.981574</td>\n      <td>4.545547</td>\n      <td>3.3</td>\n      <td>16.0</td>\n      <td>18.6</td>\n      <td>22.2</td>\n      <td>31.7</td>\n      <td>28.4</td>\n      <td>6.2</td>\n    </tr>\n    <tr>\n      <th>XAL</th>\n      <td>17.197621</td>\n      <td>16.9</td>\n      <td>17.191097</td>\n      <td>4.218078</td>\n      <td>1.5</td>\n      <td>14.4</td>\n      <td>16.9</td>\n      <td>20.2</td>\n      <td>30.1</td>\n      <td>28.6</td>\n      <td>5.8</td>\n    </tr>\n  </tbody>\n</table>\n</div>"
     },
     "metadata": {},
     "execution_count": 15
    }
   ],
   "source": [
    "df_global.groupby('id_station').TMP.agg(\n",
    "    media='mean',\n",
    "    mediana='median',\n",
    "    media_truncada=trim_mean_10,\n",
    "    desv_estandar='std',\n",
    "    minimo='min',\n",
    "    percentile_25=percentile(0.25),\n",
    "    percentile_50=percentile(0.5),\n",
    "    percentile_75=percentile(0.75),\n",
    "    maximo='max',\n",
    "    rango=np.ptp, # max - min\n",
    "    IQR=stats.iqr\n",
    ")"
   ]
  },
  {
   "cell_type": "code",
   "execution_count": 16,
   "metadata": {},
   "outputs": [
    {
     "output_type": "execute_result",
     "data": {
      "text/plain": [
       "               media  mediana  media_truncada  desv_estandar  minimo  \\\n",
       "id_station                                                             \n",
       "AJM         2.743468      2.5        2.558582       1.517280     0.0   \n",
       "AJU         2.582860      2.4        2.449145       1.221964     0.0   \n",
       "BJU         1.789737      1.7        1.702243       0.831121     0.0   \n",
       "GAM         1.922274      1.6        1.772715       1.234218     0.0   \n",
       "HGM         1.822161      1.6        1.697121       1.108285     0.0   \n",
       "INN         1.648204      1.4        1.520329       1.026929     0.0   \n",
       "MER         2.107434      1.9        1.993267       1.061193     0.0   \n",
       "MGH         1.973737      1.9        1.901692       0.996859     0.0   \n",
       "MON         2.056550      1.7        1.857069       1.562397     0.0   \n",
       "MPA         2.751328      2.5        2.618989       1.291523     0.1   \n",
       "NEZ         2.489560      2.1        2.327830       1.410703     0.0   \n",
       "PED         1.941558      1.8        1.844831       0.902593     0.0   \n",
       "SAG         1.599947      1.4        1.506417       0.889985     0.0   \n",
       "SFE         2.353284      2.2        2.253414       0.975405     0.2   \n",
       "TLA         2.104090      1.9        2.005124       1.153798     0.0   \n",
       "UAX         2.005743      1.7        1.848440       1.108054     0.1   \n",
       "UIZ         2.242555      1.9        2.090412       1.204211     0.0   \n",
       "XAL         2.595159      1.9        2.296348       1.994562     0.0   \n",
       "\n",
       "            percentile_25  percentile_50  percentile_75  maximo  rango  IQR  \n",
       "id_station                                                                   \n",
       "AJM                   1.7            2.5            3.4    14.3   14.3  1.7  \n",
       "AJU                   1.7            2.4            3.1    11.8   11.8  1.4  \n",
       "BJU                   1.3            1.7            2.2     7.7    7.7  0.9  \n",
       "GAM                   1.1            1.6            2.5     8.8    8.8  1.4  \n",
       "HGM                   1.0            1.6            2.4     8.8    8.8  1.4  \n",
       "INN                   0.8            1.4            2.2     7.5    7.5  1.4  \n",
       "MER                   1.3            1.9            2.7     8.8    8.8  1.4  \n",
       "MGH                   1.3            1.9            2.5     8.2    8.2  1.2  \n",
       "MON                   0.8            1.7            2.8     8.4    8.4  2.0  \n",
       "MPA                   1.8            2.5            3.4     9.8    9.7  1.6  \n",
       "NEZ                   1.4            2.1            3.2    12.1   12.1  1.8  \n",
       "PED                   1.3            1.8            2.3     7.2    7.2  1.0  \n",
       "SAG                   0.9            1.4            2.1     7.4    7.4  1.2  \n",
       "SFE                   1.7            2.2            2.8     7.6    7.4  1.1  \n",
       "TLA                   1.2            1.9            2.8     8.4    8.4  1.6  \n",
       "UAX                   1.3            1.7            2.5     9.2    9.1  1.2  \n",
       "UIZ                   1.4            1.9            2.8     9.0    9.0  1.4  \n",
       "XAL                   1.2            1.9            3.5    14.1   14.1  2.3  "
      ],
      "text/html": "<div>\n<style scoped>\n    .dataframe tbody tr th:only-of-type {\n        vertical-align: middle;\n    }\n\n    .dataframe tbody tr th {\n        vertical-align: top;\n    }\n\n    .dataframe thead th {\n        text-align: right;\n    }\n</style>\n<table border=\"1\" class=\"dataframe\">\n  <thead>\n    <tr style=\"text-align: right;\">\n      <th></th>\n      <th>media</th>\n      <th>mediana</th>\n      <th>media_truncada</th>\n      <th>desv_estandar</th>\n      <th>minimo</th>\n      <th>percentile_25</th>\n      <th>percentile_50</th>\n      <th>percentile_75</th>\n      <th>maximo</th>\n      <th>rango</th>\n      <th>IQR</th>\n    </tr>\n    <tr>\n      <th>id_station</th>\n      <th></th>\n      <th></th>\n      <th></th>\n      <th></th>\n      <th></th>\n      <th></th>\n      <th></th>\n      <th></th>\n      <th></th>\n      <th></th>\n      <th></th>\n    </tr>\n  </thead>\n  <tbody>\n    <tr>\n      <th>AJM</th>\n      <td>2.743468</td>\n      <td>2.5</td>\n      <td>2.558582</td>\n      <td>1.517280</td>\n      <td>0.0</td>\n      <td>1.7</td>\n      <td>2.5</td>\n      <td>3.4</td>\n      <td>14.3</td>\n      <td>14.3</td>\n      <td>1.7</td>\n    </tr>\n    <tr>\n      <th>AJU</th>\n      <td>2.582860</td>\n      <td>2.4</td>\n      <td>2.449145</td>\n      <td>1.221964</td>\n      <td>0.0</td>\n      <td>1.7</td>\n      <td>2.4</td>\n      <td>3.1</td>\n      <td>11.8</td>\n      <td>11.8</td>\n      <td>1.4</td>\n    </tr>\n    <tr>\n      <th>BJU</th>\n      <td>1.789737</td>\n      <td>1.7</td>\n      <td>1.702243</td>\n      <td>0.831121</td>\n      <td>0.0</td>\n      <td>1.3</td>\n      <td>1.7</td>\n      <td>2.2</td>\n      <td>7.7</td>\n      <td>7.7</td>\n      <td>0.9</td>\n    </tr>\n    <tr>\n      <th>GAM</th>\n      <td>1.922274</td>\n      <td>1.6</td>\n      <td>1.772715</td>\n      <td>1.234218</td>\n      <td>0.0</td>\n      <td>1.1</td>\n      <td>1.6</td>\n      <td>2.5</td>\n      <td>8.8</td>\n      <td>8.8</td>\n      <td>1.4</td>\n    </tr>\n    <tr>\n      <th>HGM</th>\n      <td>1.822161</td>\n      <td>1.6</td>\n      <td>1.697121</td>\n      <td>1.108285</td>\n      <td>0.0</td>\n      <td>1.0</td>\n      <td>1.6</td>\n      <td>2.4</td>\n      <td>8.8</td>\n      <td>8.8</td>\n      <td>1.4</td>\n    </tr>\n    <tr>\n      <th>INN</th>\n      <td>1.648204</td>\n      <td>1.4</td>\n      <td>1.520329</td>\n      <td>1.026929</td>\n      <td>0.0</td>\n      <td>0.8</td>\n      <td>1.4</td>\n      <td>2.2</td>\n      <td>7.5</td>\n      <td>7.5</td>\n      <td>1.4</td>\n    </tr>\n    <tr>\n      <th>MER</th>\n      <td>2.107434</td>\n      <td>1.9</td>\n      <td>1.993267</td>\n      <td>1.061193</td>\n      <td>0.0</td>\n      <td>1.3</td>\n      <td>1.9</td>\n      <td>2.7</td>\n      <td>8.8</td>\n      <td>8.8</td>\n      <td>1.4</td>\n    </tr>\n    <tr>\n      <th>MGH</th>\n      <td>1.973737</td>\n      <td>1.9</td>\n      <td>1.901692</td>\n      <td>0.996859</td>\n      <td>0.0</td>\n      <td>1.3</td>\n      <td>1.9</td>\n      <td>2.5</td>\n      <td>8.2</td>\n      <td>8.2</td>\n      <td>1.2</td>\n    </tr>\n    <tr>\n      <th>MON</th>\n      <td>2.056550</td>\n      <td>1.7</td>\n      <td>1.857069</td>\n      <td>1.562397</td>\n      <td>0.0</td>\n      <td>0.8</td>\n      <td>1.7</td>\n      <td>2.8</td>\n      <td>8.4</td>\n      <td>8.4</td>\n      <td>2.0</td>\n    </tr>\n    <tr>\n      <th>MPA</th>\n      <td>2.751328</td>\n      <td>2.5</td>\n      <td>2.618989</td>\n      <td>1.291523</td>\n      <td>0.1</td>\n      <td>1.8</td>\n      <td>2.5</td>\n      <td>3.4</td>\n      <td>9.8</td>\n      <td>9.7</td>\n      <td>1.6</td>\n    </tr>\n    <tr>\n      <th>NEZ</th>\n      <td>2.489560</td>\n      <td>2.1</td>\n      <td>2.327830</td>\n      <td>1.410703</td>\n      <td>0.0</td>\n      <td>1.4</td>\n      <td>2.1</td>\n      <td>3.2</td>\n      <td>12.1</td>\n      <td>12.1</td>\n      <td>1.8</td>\n    </tr>\n    <tr>\n      <th>PED</th>\n      <td>1.941558</td>\n      <td>1.8</td>\n      <td>1.844831</td>\n      <td>0.902593</td>\n      <td>0.0</td>\n      <td>1.3</td>\n      <td>1.8</td>\n      <td>2.3</td>\n      <td>7.2</td>\n      <td>7.2</td>\n      <td>1.0</td>\n    </tr>\n    <tr>\n      <th>SAG</th>\n      <td>1.599947</td>\n      <td>1.4</td>\n      <td>1.506417</td>\n      <td>0.889985</td>\n      <td>0.0</td>\n      <td>0.9</td>\n      <td>1.4</td>\n      <td>2.1</td>\n      <td>7.4</td>\n      <td>7.4</td>\n      <td>1.2</td>\n    </tr>\n    <tr>\n      <th>SFE</th>\n      <td>2.353284</td>\n      <td>2.2</td>\n      <td>2.253414</td>\n      <td>0.975405</td>\n      <td>0.2</td>\n      <td>1.7</td>\n      <td>2.2</td>\n      <td>2.8</td>\n      <td>7.6</td>\n      <td>7.4</td>\n      <td>1.1</td>\n    </tr>\n    <tr>\n      <th>TLA</th>\n      <td>2.104090</td>\n      <td>1.9</td>\n      <td>2.005124</td>\n      <td>1.153798</td>\n      <td>0.0</td>\n      <td>1.2</td>\n      <td>1.9</td>\n      <td>2.8</td>\n      <td>8.4</td>\n      <td>8.4</td>\n      <td>1.6</td>\n    </tr>\n    <tr>\n      <th>UAX</th>\n      <td>2.005743</td>\n      <td>1.7</td>\n      <td>1.848440</td>\n      <td>1.108054</td>\n      <td>0.1</td>\n      <td>1.3</td>\n      <td>1.7</td>\n      <td>2.5</td>\n      <td>9.2</td>\n      <td>9.1</td>\n      <td>1.2</td>\n    </tr>\n    <tr>\n      <th>UIZ</th>\n      <td>2.242555</td>\n      <td>1.9</td>\n      <td>2.090412</td>\n      <td>1.204211</td>\n      <td>0.0</td>\n      <td>1.4</td>\n      <td>1.9</td>\n      <td>2.8</td>\n      <td>9.0</td>\n      <td>9.0</td>\n      <td>1.4</td>\n    </tr>\n    <tr>\n      <th>XAL</th>\n      <td>2.595159</td>\n      <td>1.9</td>\n      <td>2.296348</td>\n      <td>1.994562</td>\n      <td>0.0</td>\n      <td>1.2</td>\n      <td>1.9</td>\n      <td>3.5</td>\n      <td>14.1</td>\n      <td>14.1</td>\n      <td>2.3</td>\n    </tr>\n  </tbody>\n</table>\n</div>"
     },
     "metadata": {},
     "execution_count": 16
    }
   ],
   "source": [
    "df_global.groupby('id_station').WSP.agg(\n",
    "    media='mean',\n",
    "    mediana='median',\n",
    "    media_truncada=trim_mean_10,\n",
    "    desv_estandar='std',\n",
    "    minimo='min',\n",
    "    percentile_25=percentile(0.25),\n",
    "    percentile_50=percentile(0.5),\n",
    "    percentile_75=percentile(0.75),\n",
    "    maximo='max',\n",
    "    rango=np.ptp, # max - min\n",
    "    IQR=stats.iqr\n",
    ")"
   ]
  },
  {
   "source": [
    "### Conclusión\n",
    "\n",
    "Con lo anterior, podemos analizar lo siguiente:\n",
    "\n",
    "- Nuestros `rangos` son muy amplios, comparados contra el IQR, esto por los datos atípicos `(outliders)` que contiene el dataset   \n",
    "- Vemos que nuestras `medias` no se encuentran tan alejadas de las `medianas`, lo que nos pareciera indicar que tenemos un `sesgo bajo`.\n",
    "- Como es de esperarse, la media truncada se aproxima más a la mediana, al quitar los valores del 5% de cada extremo de nuestros datos.\n",
    "- Contamos con desviaciones estándar amplias, pero inferiores a nuestra mediana. \n",
    "- Podemos apreciar que la mayoria de nuestros datos se encuentran cerca de la mediana  $\\pm$ 1 $\\sigma$, de acuerdo a los valores en los `percentiles 25 y 75`."
   ],
   "cell_type": "markdown",
   "metadata": {}
  }
 ]
}