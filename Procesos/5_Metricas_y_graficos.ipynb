{
  "nbformat": 4,
  "nbformat_minor": 0,
  "metadata": {
    "colab": {
      "name": "Graficos Proyecto",
      "provenance": [],
      "collapsed_sections": []
    },
    "kernelspec": {
      "display_name": "Python 3",
      "name": "python3"
    },
    "language_info": {
      "name": "python"
    }
  },
  "cells": [
    {
      "cell_type": "markdown",
      "metadata": {
        "id": "QJH1EF9m40Jq"
      },
      "source": [
        "En el siguiente notebook se muestra algunos procesos realizados para conocer el Índice de Calidad del Aire (AQI, por sus siglas en inglés) para los datos de 2019, así como el cálculo de las métricas de rendimiento y la elaboración de gráficos."
      ]
    },
    {
      "cell_type": "code",
      "metadata": {
        "id": "Cw-YFCF8qM0H"
      },
      "source": [
        "#Lectura de los paquetes\n",
        "import pandas as pd\n",
        "import seaborn as sns\n",
        "import matplotlib.pyplot as plt\n",
        "import numpy as np"
      ],
      "execution_count": 1,
      "outputs": []
    },
    {
      "cell_type": "code",
      "metadata": {
        "id": "M8f2oOtnqR0z"
      },
      "source": [
        "df= pd.read_csv('https://raw.githubusercontent.com/IrvingC48/Prototype_BEDU/main/datasets/test_2019_resultado.csv')"
      ],
      "execution_count": 4,
      "outputs": []
    },
    {
      "cell_type": "code",
      "metadata": {
        "colab": {
          "base_uri": "https://localhost:8080/",
          "height": 286
        },
        "id": "aMHy_boJqntn",
        "outputId": "7325c3e7-ffc6-4604-d3b3-c7881513b937"
      },
      "source": [
        "df.head()"
      ],
      "execution_count": 5,
      "outputs": [
        {
          "output_type": "execute_result",
          "data": {
            "text/html": [
              "<div>\n",
              "<style scoped>\n",
              "    .dataframe tbody tr th:only-of-type {\n",
              "        vertical-align: middle;\n",
              "    }\n",
              "\n",
              "    .dataframe tbody tr th {\n",
              "        vertical-align: top;\n",
              "    }\n",
              "\n",
              "    .dataframe thead th {\n",
              "        text-align: right;\n",
              "    }\n",
              "</style>\n",
              "<table border=\"1\" class=\"dataframe\">\n",
              "  <thead>\n",
              "    <tr style=\"text-align: right;\">\n",
              "      <th></th>\n",
              "      <th>date</th>\n",
              "      <th>PM2_5</th>\n",
              "      <th>RH</th>\n",
              "      <th>TMP</th>\n",
              "      <th>WSP</th>\n",
              "      <th>dia_semana_sin</th>\n",
              "      <th>juliano_sin</th>\n",
              "      <th>dia_semana_cos</th>\n",
              "      <th>juliano_cos</th>\n",
              "      <th>0</th>\n",
              "      <th>1</th>\n",
              "      <th>2</th>\n",
              "      <th>3</th>\n",
              "      <th>4</th>\n",
              "      <th>5</th>\n",
              "      <th>6</th>\n",
              "      <th>7</th>\n",
              "      <th>8</th>\n",
              "      <th>9</th>\n",
              "      <th>10</th>\n",
              "      <th>11</th>\n",
              "      <th>12</th>\n",
              "      <th>13</th>\n",
              "      <th>14</th>\n",
              "      <th>15</th>\n",
              "      <th>16</th>\n",
              "      <th>17</th>\n",
              "      <th>18</th>\n",
              "      <th>19</th>\n",
              "      <th>20</th>\n",
              "      <th>21</th>\n",
              "      <th>22</th>\n",
              "      <th>pred_NN</th>\n",
              "      <th>indice_real</th>\n",
              "      <th>AQI_real</th>\n",
              "      <th>indice_pred</th>\n",
              "      <th>AQI_pred</th>\n",
              "      <th>zone</th>\n",
              "      <th>id_station</th>\n",
              "    </tr>\n",
              "  </thead>\n",
              "  <tbody>\n",
              "    <tr>\n",
              "      <th>0</th>\n",
              "      <td>2019-01-01</td>\n",
              "      <td>12.190476</td>\n",
              "      <td>58.190476</td>\n",
              "      <td>6.647619</td>\n",
              "      <td>1.600000</td>\n",
              "      <td>0.781831</td>\n",
              "      <td>0.017166</td>\n",
              "      <td>0.623490</td>\n",
              "      <td>0.999853</td>\n",
              "      <td>0.0</td>\n",
              "      <td>0.0</td>\n",
              "      <td>0.0</td>\n",
              "      <td>0.0</td>\n",
              "      <td>0.0</td>\n",
              "      <td>1.0</td>\n",
              "      <td>0.0</td>\n",
              "      <td>0.0</td>\n",
              "      <td>0.0</td>\n",
              "      <td>0.0</td>\n",
              "      <td>0.0</td>\n",
              "      <td>0.0</td>\n",
              "      <td>0.0</td>\n",
              "      <td>0.0</td>\n",
              "      <td>0.0</td>\n",
              "      <td>0.0</td>\n",
              "      <td>0.0</td>\n",
              "      <td>0.0</td>\n",
              "      <td>0.0</td>\n",
              "      <td>0.0</td>\n",
              "      <td>0.0</td>\n",
              "      <td>0.0</td>\n",
              "      <td>1.0</td>\n",
              "      <td>14.967581</td>\n",
              "      <td>51.190</td>\n",
              "      <td>Regular</td>\n",
              "      <td>57.031</td>\n",
              "      <td>Regular</td>\n",
              "      <td>SO</td>\n",
              "      <td>INN</td>\n",
              "    </tr>\n",
              "    <tr>\n",
              "      <th>1</th>\n",
              "      <td>2019-01-01</td>\n",
              "      <td>39.619048</td>\n",
              "      <td>46.523810</td>\n",
              "      <td>14.366667</td>\n",
              "      <td>1.314286</td>\n",
              "      <td>0.781831</td>\n",
              "      <td>0.017166</td>\n",
              "      <td>0.623490</td>\n",
              "      <td>0.999853</td>\n",
              "      <td>0.0</td>\n",
              "      <td>0.0</td>\n",
              "      <td>0.0</td>\n",
              "      <td>0.0</td>\n",
              "      <td>0.0</td>\n",
              "      <td>0.0</td>\n",
              "      <td>0.0</td>\n",
              "      <td>0.0</td>\n",
              "      <td>0.0</td>\n",
              "      <td>0.0</td>\n",
              "      <td>0.0</td>\n",
              "      <td>0.0</td>\n",
              "      <td>0.0</td>\n",
              "      <td>0.0</td>\n",
              "      <td>1.0</td>\n",
              "      <td>0.0</td>\n",
              "      <td>0.0</td>\n",
              "      <td>0.0</td>\n",
              "      <td>0.0</td>\n",
              "      <td>0.0</td>\n",
              "      <td>1.0</td>\n",
              "      <td>0.0</td>\n",
              "      <td>0.0</td>\n",
              "      <td>30.767232</td>\n",
              "      <td>111.142</td>\n",
              "      <td>Mala</td>\n",
              "      <td>90.257</td>\n",
              "      <td>Regular</td>\n",
              "      <td>NO</td>\n",
              "      <td>TLA</td>\n",
              "    </tr>\n",
              "    <tr>\n",
              "      <th>2</th>\n",
              "      <td>2019-01-02</td>\n",
              "      <td>30.315789</td>\n",
              "      <td>50.105263</td>\n",
              "      <td>14.168421</td>\n",
              "      <td>1.257895</td>\n",
              "      <td>0.974928</td>\n",
              "      <td>0.034328</td>\n",
              "      <td>-0.222521</td>\n",
              "      <td>0.999411</td>\n",
              "      <td>0.0</td>\n",
              "      <td>0.0</td>\n",
              "      <td>1.0</td>\n",
              "      <td>0.0</td>\n",
              "      <td>0.0</td>\n",
              "      <td>0.0</td>\n",
              "      <td>0.0</td>\n",
              "      <td>0.0</td>\n",
              "      <td>0.0</td>\n",
              "      <td>0.0</td>\n",
              "      <td>0.0</td>\n",
              "      <td>0.0</td>\n",
              "      <td>0.0</td>\n",
              "      <td>0.0</td>\n",
              "      <td>0.0</td>\n",
              "      <td>0.0</td>\n",
              "      <td>0.0</td>\n",
              "      <td>0.0</td>\n",
              "      <td>1.0</td>\n",
              "      <td>0.0</td>\n",
              "      <td>0.0</td>\n",
              "      <td>0.0</td>\n",
              "      <td>0.0</td>\n",
              "      <td>29.383028</td>\n",
              "      <td>89.308</td>\n",
              "      <td>Regular</td>\n",
              "      <td>87.346</td>\n",
              "      <td>Regular</td>\n",
              "      <td>CE</td>\n",
              "      <td>BJU</td>\n",
              "    </tr>\n",
              "    <tr>\n",
              "      <th>3</th>\n",
              "      <td>2019-01-02</td>\n",
              "      <td>29.368421</td>\n",
              "      <td>49.210526</td>\n",
              "      <td>14.331579</td>\n",
              "      <td>1.421053</td>\n",
              "      <td>0.974928</td>\n",
              "      <td>0.034328</td>\n",
              "      <td>-0.222521</td>\n",
              "      <td>0.999411</td>\n",
              "      <td>0.0</td>\n",
              "      <td>0.0</td>\n",
              "      <td>0.0</td>\n",
              "      <td>0.0</td>\n",
              "      <td>1.0</td>\n",
              "      <td>0.0</td>\n",
              "      <td>0.0</td>\n",
              "      <td>0.0</td>\n",
              "      <td>0.0</td>\n",
              "      <td>0.0</td>\n",
              "      <td>0.0</td>\n",
              "      <td>0.0</td>\n",
              "      <td>0.0</td>\n",
              "      <td>0.0</td>\n",
              "      <td>0.0</td>\n",
              "      <td>0.0</td>\n",
              "      <td>0.0</td>\n",
              "      <td>0.0</td>\n",
              "      <td>1.0</td>\n",
              "      <td>0.0</td>\n",
              "      <td>0.0</td>\n",
              "      <td>0.0</td>\n",
              "      <td>0.0</td>\n",
              "      <td>29.334552</td>\n",
              "      <td>87.316</td>\n",
              "      <td>Regular</td>\n",
              "      <td>87.244</td>\n",
              "      <td>Regular</td>\n",
              "      <td>CE</td>\n",
              "      <td>HGM</td>\n",
              "    </tr>\n",
              "    <tr>\n",
              "      <th>4</th>\n",
              "      <td>2019-01-02</td>\n",
              "      <td>8.227273</td>\n",
              "      <td>57.863636</td>\n",
              "      <td>5.600000</td>\n",
              "      <td>1.772727</td>\n",
              "      <td>0.974928</td>\n",
              "      <td>0.034328</td>\n",
              "      <td>-0.222521</td>\n",
              "      <td>0.999411</td>\n",
              "      <td>0.0</td>\n",
              "      <td>0.0</td>\n",
              "      <td>0.0</td>\n",
              "      <td>0.0</td>\n",
              "      <td>0.0</td>\n",
              "      <td>1.0</td>\n",
              "      <td>0.0</td>\n",
              "      <td>0.0</td>\n",
              "      <td>0.0</td>\n",
              "      <td>0.0</td>\n",
              "      <td>0.0</td>\n",
              "      <td>0.0</td>\n",
              "      <td>0.0</td>\n",
              "      <td>0.0</td>\n",
              "      <td>0.0</td>\n",
              "      <td>0.0</td>\n",
              "      <td>0.0</td>\n",
              "      <td>0.0</td>\n",
              "      <td>0.0</td>\n",
              "      <td>0.0</td>\n",
              "      <td>0.0</td>\n",
              "      <td>0.0</td>\n",
              "      <td>1.0</td>\n",
              "      <td>12.892686</td>\n",
              "      <td>34.280</td>\n",
              "      <td>Buena</td>\n",
              "      <td>52.667</td>\n",
              "      <td>Regular</td>\n",
              "      <td>SO</td>\n",
              "      <td>INN</td>\n",
              "    </tr>\n",
              "  </tbody>\n",
              "</table>\n",
              "</div>"
            ],
            "text/plain": [
              "         date      PM2_5         RH  ...  AQI_pred  zone  id_station\n",
              "0  2019-01-01  12.190476  58.190476  ...   Regular    SO         INN\n",
              "1  2019-01-01  39.619048  46.523810  ...   Regular    NO         TLA\n",
              "2  2019-01-02  30.315789  50.105263  ...   Regular    CE         BJU\n",
              "3  2019-01-02  29.368421  49.210526  ...   Regular    CE         HGM\n",
              "4  2019-01-02   8.227273  57.863636  ...   Regular    SO         INN\n",
              "\n",
              "[5 rows x 39 columns]"
            ]
          },
          "metadata": {
            "tags": []
          },
          "execution_count": 5
        }
      ]
    },
    {
      "cell_type": "code",
      "metadata": {
        "id": "u8MOb4kswCRv"
      },
      "source": [
        "df= df.set_index('date')"
      ],
      "execution_count": 6,
      "outputs": []
    },
    {
      "cell_type": "markdown",
      "metadata": {
        "id": "8mtcTsyW5b_M"
      },
      "source": [
        "#Cálculo de indicadores\n",
        "\n",
        "Se realizan los siguientes datos para las métricas propuestas:\n",
        "\n",
        "\n",
        "*   Error absoluto entre la concentración de $PM_{2.5}$ real y predicha por el modelo.\n",
        "*   La precisión del modelo para estimar el AQI de cada estimación.\n",
        "*  Si el error fue estimar un índice superior (falso negativo, representado con valores negativos) o un índice inferior (Falso positivo, representado con valores positivos)\n",
        "\n"
      ]
    },
    {
      "cell_type": "code",
      "metadata": {
        "id": "dtWX15yxrgWE"
      },
      "source": [
        "#Error absoluto \n",
        "df['error_abs']= abs(df['PM2_5']-df['pred_NN'])"
      ],
      "execution_count": 7,
      "outputs": []
    },
    {
      "cell_type": "code",
      "metadata": {
        "id": "HXxxICp-rvhZ"
      },
      "source": [
        "#Precisión\n",
        "df['accuracy']= df['AQI_real']==df['AQI_pred']"
      ],
      "execution_count": 8,
      "outputs": []
    },
    {
      "cell_type": "code",
      "metadata": {
        "colab": {
          "base_uri": "https://localhost:8080/"
        },
        "id": "8BJuCXMw7kAX",
        "outputId": "9e2c9403-f235-4574-b3cd-1b5206835d14"
      },
      "source": [
        "#MAE del modelo\n",
        "df.error_abs.mean()"
      ],
      "execution_count": 9,
      "outputs": [
        {
          "output_type": "execute_result",
          "data": {
            "text/plain": [
              "4.630570105025111"
            ]
          },
          "metadata": {
            "tags": []
          },
          "execution_count": 9
        }
      ]
    },
    {
      "cell_type": "code",
      "metadata": {
        "colab": {
          "base_uri": "https://localhost:8080/"
        },
        "id": "z6Q0pH4d7p4J",
        "outputId": "ac3f4d46-a374-4472-96bb-7770123d9205"
      },
      "source": [
        "#Precisión del modelo\n",
        "sum(df.accuracy)/df.error_abs.size"
      ],
      "execution_count": 10,
      "outputs": [
        {
          "output_type": "execute_result",
          "data": {
            "text/plain": [
              "0.8360817941952506"
            ]
          },
          "metadata": {
            "tags": []
          },
          "execution_count": 10
        }
      ]
    },
    {
      "cell_type": "code",
      "metadata": {
        "colab": {
          "base_uri": "https://localhost:8080/"
        },
        "id": "xcbnan7E8FYT",
        "outputId": "dac550b2-3376-42f0-d6c5-193bf4bce4e8"
      },
      "source": [
        "df.AQI_real.unique()"
      ],
      "execution_count": 11,
      "outputs": [
        {
          "output_type": "execute_result",
          "data": {
            "text/plain": [
              "array(['Regular', 'Mala', 'Buena'], dtype=object)"
            ]
          },
          "metadata": {
            "tags": []
          },
          "execution_count": 11
        }
      ]
    },
    {
      "cell_type": "code",
      "metadata": {
        "colab": {
          "base_uri": "https://localhost:8080/"
        },
        "id": "nm6abUGB8JC5",
        "outputId": "96a10a3c-7339-4a2e-b5d6-920936027c42"
      },
      "source": [
        "df.AQI_pred.unique()"
      ],
      "execution_count": 12,
      "outputs": [
        {
          "output_type": "execute_result",
          "data": {
            "text/plain": [
              "array(['Regular', 'Mala', 'Buena'], dtype=object)"
            ]
          },
          "metadata": {
            "tags": []
          },
          "execution_count": 12
        }
      ]
    },
    {
      "cell_type": "code",
      "metadata": {
        "id": "x9sJ_C4-7QKK"
      },
      "source": [
        "#Función para otorgar un valor numérico al error\n",
        "def Num_AQI(CP):\n",
        "    i = 0\n",
        "\n",
        "    if CP==\"Mala\":\n",
        "        i = 2\n",
        "    if CP==\"Regular\":\n",
        "        i = 1\n",
        "    if CP==\"Buena\":\n",
        "        i = 0\n",
        "    return i"
      ],
      "execution_count": 13,
      "outputs": []
    },
    {
      "cell_type": "code",
      "metadata": {
        "id": "jLYFGMZ88ayX"
      },
      "source": [
        "#Aplicarlo al dataset\n",
        "df['NumAQI_real'] = df.AQI_real.apply(Num_AQI)\n",
        "df['NumAQI_pred'] = df.AQI_pred.apply(Num_AQI)\n"
      ],
      "execution_count": 14,
      "outputs": []
    },
    {
      "cell_type": "code",
      "metadata": {
        "id": "CmxokY9e8rY5"
      },
      "source": [
        "#Determinar la dirección\n",
        "df['Dir_error']=df['NumAQI_real']-df['NumAQI_pred']"
      ],
      "execution_count": 15,
      "outputs": []
    },
    {
      "cell_type": "code",
      "metadata": {
        "colab": {
          "base_uri": "https://localhost:8080/"
        },
        "id": "Clf4dvvz838r",
        "outputId": "eb8b04ff-9b68-42fe-d8aa-027d3467ec83"
      },
      "source": [
        "#Calcular el porcentaje de falsos negativos y falsos postivos\n",
        "df.Dir_error.value_counts()/df.Dir_error.size"
      ],
      "execution_count": 16,
      "outputs": [
        {
          "output_type": "execute_result",
          "data": {
            "text/plain": [
              " 0    0.836082\n",
              "-1    0.102573\n",
              " 1    0.061346\n",
              "Name: Dir_error, dtype: float64"
            ]
          },
          "metadata": {
            "tags": []
          },
          "execution_count": 16
        }
      ]
    },
    {
      "cell_type": "markdown",
      "metadata": {
        "id": "pe1BDr-66Qfh"
      },
      "source": [
        "Se hace una pequeña revisión de las métricas por zonas"
      ]
    },
    {
      "cell_type": "code",
      "metadata": {
        "colab": {
          "base_uri": "https://localhost:8080/"
        },
        "id": "G65GU719rSC4",
        "outputId": "62c28cd6-60a0-4923-f7c3-4414d08c627d"
      },
      "source": [
        "#Error medio absoluto (MAE) por zona\n",
        "df.groupby(['zone']).error_abs.mean()"
      ],
      "execution_count": 17,
      "outputs": [
        {
          "output_type": "execute_result",
          "data": {
            "text/plain": [
              "zone\n",
              "CE    5.184164\n",
              "NE    4.688562\n",
              "NO    4.568473\n",
              "SE    4.441420\n",
              "SO    4.169103\n",
              "Name: error_abs, dtype: float64"
            ]
          },
          "metadata": {
            "tags": []
          },
          "execution_count": 17
        }
      ]
    },
    {
      "cell_type": "code",
      "metadata": {
        "colab": {
          "base_uri": "https://localhost:8080/"
        },
        "id": "ybeBQIQELaOv",
        "outputId": "4c5ab6ff-e094-4e14-9553-3237bfd912a7"
      },
      "source": [
        "#Error medio absoluto por zona y por estación\n",
        "df.groupby(['zone','id_station']).error_abs.mean()"
      ],
      "execution_count": 18,
      "outputs": [
        {
          "output_type": "execute_result",
          "data": {
            "text/plain": [
              "zone  id_station\n",
              "CE    BJU           4.475427\n",
              "      HGM           5.717343\n",
              "      MER           5.177113\n",
              "NE    GAM           4.498086\n",
              "      MON           4.151021\n",
              "      NEZ           5.286445\n",
              "      SAG           4.858958\n",
              "      XAL           4.808461\n",
              "NO    MGH           4.544384\n",
              "      TLA           4.585068\n",
              "SE    UAX           4.441420\n",
              "SO    AJM           4.079680\n",
              "      INN           4.183737\n",
              "      PED           4.217267\n",
              "      SFE           4.197816\n",
              "Name: error_abs, dtype: float64"
            ]
          },
          "metadata": {
            "tags": []
          },
          "execution_count": 18
        }
      ]
    },
    {
      "cell_type": "code",
      "metadata": {
        "colab": {
          "base_uri": "https://localhost:8080/"
        },
        "id": "SaoXWy6LLg_L",
        "outputId": "52514e60-acb3-41f8-85b8-9f0c579114e8"
      },
      "source": [
        "#Número de datos por zona y por estación\n",
        "df.groupby(['zone','id_station']).size()"
      ],
      "execution_count": 19,
      "outputs": [
        {
          "output_type": "execute_result",
          "data": {
            "text/plain": [
              "zone  id_station\n",
              "CE    BJU           146\n",
              "      HGM           198\n",
              "      MER           297\n",
              "NE    GAM           279\n",
              "      MON           281\n",
              "      NEZ           265\n",
              "      SAG           113\n",
              "      XAL           221\n",
              "NO    MGH           124\n",
              "      TLA           180\n",
              "SE    UAX            92\n",
              "SO    AJM           236\n",
              "      INN           106\n",
              "      PED           276\n",
              "      SFE           218\n",
              "dtype: int64"
            ]
          },
          "metadata": {
            "tags": []
          },
          "execution_count": 19
        }
      ]
    },
    {
      "cell_type": "code",
      "metadata": {
        "colab": {
          "base_uri": "https://localhost:8080/"
        },
        "id": "pUFOMGiEMa1E",
        "outputId": "a2dcfd06-0c48-4f1b-c8b4-209d71b89d52"
      },
      "source": [
        "#Porcentaje de datos correctos e incorrectos por zona y por estación\n",
        "df.groupby(['zone','id_station']).accuracy.value_counts()/df.groupby(['zone','id_station']).accuracy.size()"
      ],
      "execution_count": 20,
      "outputs": [
        {
          "output_type": "execute_result",
          "data": {
            "text/plain": [
              "zone  id_station  accuracy\n",
              "CE    BJU         True        0.808219\n",
              "                  False       0.191781\n",
              "      HGM         True        0.797980\n",
              "                  False       0.202020\n",
              "      MER         True        0.865320\n",
              "                  False       0.134680\n",
              "NE    GAM         True        0.842294\n",
              "                  False       0.157706\n",
              "      MON         True        0.854093\n",
              "                  False       0.145907\n",
              "      NEZ         True        0.796226\n",
              "                  False       0.203774\n",
              "      SAG         True        0.920354\n",
              "                  False       0.079646\n",
              "      XAL         True        0.800905\n",
              "                  False       0.199095\n",
              "NO    MGH         True        0.911290\n",
              "                  False       0.088710\n",
              "      TLA         True        0.944444\n",
              "                  False       0.055556\n",
              "SE    UAX         True        0.989130\n",
              "                  False       0.010870\n",
              "SO    AJM         True        0.851695\n",
              "                  False       0.148305\n",
              "      INN         True        0.650943\n",
              "                  False       0.349057\n",
              "      PED         True        0.771739\n",
              "                  False       0.228261\n",
              "      SFE         True        0.816514\n",
              "                  False       0.183486\n",
              "Name: accuracy, dtype: float64"
            ]
          },
          "metadata": {
            "tags": []
          },
          "execution_count": 20
        }
      ]
    },
    {
      "cell_type": "code",
      "metadata": {
        "colab": {
          "base_uri": "https://localhost:8080/"
        },
        "id": "1MSIs5GatqlC",
        "outputId": "d5bd18ea-c3a1-4021-ac6d-b9f3396dbec1"
      },
      "source": [
        "#Valores correctos e incorrectos por zona\n",
        "df.groupby(['zone']).accuracy.value_counts()/df.groupby('zone').accuracy.size()"
      ],
      "execution_count": 21,
      "outputs": [
        {
          "output_type": "execute_result",
          "data": {
            "text/plain": [
              "zone  accuracy\n",
              "CE    True        0.831513\n",
              "      False       0.168487\n",
              "NE    True        0.834340\n",
              "      False       0.165660\n",
              "NO    True        0.930921\n",
              "      False       0.069079\n",
              "SE    True        0.989130\n",
              "      False       0.010870\n",
              "SO    True        0.790670\n",
              "      False       0.209330\n",
              "Name: accuracy, dtype: float64"
            ]
          },
          "metadata": {
            "tags": []
          },
          "execution_count": 21
        }
      ]
    },
    {
      "cell_type": "code",
      "metadata": {
        "colab": {
          "base_uri": "https://localhost:8080/"
        },
        "id": "nCv88izE9hBn",
        "outputId": "c1bfe3a2-9f23-42ea-c4ee-c9b32fdfe12e"
      },
      "source": [
        "#Porcentaje de la dirección de los errores por zona y por estación\n",
        "df.groupby(['zone','id_station']).Dir_error.value_counts()/df.groupby(['zone','id_station']).Dir_error.size()"
      ],
      "execution_count": 22,
      "outputs": [
        {
          "output_type": "execute_result",
          "data": {
            "text/plain": [
              "zone  id_station  Dir_error\n",
              "CE    BJU          0           0.808219\n",
              "                  -1           0.178082\n",
              "                   1           0.013699\n",
              "      HGM          0           0.797980\n",
              "                   1           0.141414\n",
              "                  -1           0.060606\n",
              "      MER          0           0.865320\n",
              "                  -1           0.070707\n",
              "                   1           0.063973\n",
              "NE    GAM          0           0.842294\n",
              "                  -1           0.100358\n",
              "                   1           0.057348\n",
              "      MON          0           0.854093\n",
              "                  -1           0.085409\n",
              "                   1           0.060498\n",
              "      NEZ          0           0.796226\n",
              "                   1           0.128302\n",
              "                  -1           0.075472\n",
              "      SAG          0           0.920354\n",
              "                   1           0.070796\n",
              "                  -1           0.008850\n",
              "      XAL          0           0.800905\n",
              "                   1           0.122172\n",
              "                  -1           0.076923\n",
              "NO    MGH          0           0.911290\n",
              "                  -1           0.056452\n",
              "                   1           0.032258\n",
              "      TLA          0           0.944444\n",
              "                   1           0.038889\n",
              "                  -1           0.016667\n",
              "SE    UAX          0           0.989130\n",
              "                  -1           0.010870\n",
              "SO    AJM          0           0.851695\n",
              "                  -1           0.127119\n",
              "                   1           0.021186\n",
              "      INN          0           0.650943\n",
              "                  -1           0.330189\n",
              "                   1           0.018868\n",
              "      PED          0           0.771739\n",
              "                  -1           0.170290\n",
              "                   1           0.057971\n",
              "      SFE          0           0.816514\n",
              "                  -1           0.178899\n",
              "                   1           0.004587\n",
              "Name: Dir_error, dtype: float64"
            ]
          },
          "metadata": {
            "tags": []
          },
          "execution_count": 22
        }
      ]
    },
    {
      "cell_type": "code",
      "metadata": {
        "colab": {
          "base_uri": "https://localhost:8080/"
        },
        "id": "ZJm3e15i9sAr",
        "outputId": "ce98ba62-98eb-4544-c2ae-a41d2c9c68fe"
      },
      "source": [
        "#Porcentaje de la dirección de los errores por zona\n",
        "df.groupby('zone').Dir_error.value_counts()/df.groupby('zone').Dir_error.size()"
      ],
      "execution_count": 23,
      "outputs": [
        {
          "output_type": "execute_result",
          "data": {
            "text/plain": [
              "zone  Dir_error\n",
              "CE     0           0.831513\n",
              "      -1           0.092044\n",
              "       1           0.076443\n",
              "NE     0           0.834340\n",
              "       1           0.088007\n",
              "      -1           0.077653\n",
              "NO     0           0.930921\n",
              "       1           0.036184\n",
              "      -1           0.032895\n",
              "SE     0           0.989130\n",
              "      -1           0.010870\n",
              "SO     0           0.790670\n",
              "      -1           0.180622\n",
              "       1           0.028708\n",
              "Name: Dir_error, dtype: float64"
            ]
          },
          "metadata": {
            "tags": []
          },
          "execution_count": 23
        }
      ]
    },
    {
      "cell_type": "markdown",
      "metadata": {
        "id": "JsPM1VyW6usF"
      },
      "source": [
        "Después de observar las métricas anteriores, se consideró que la estación MON sería un ejemplo que pudiera mostrar más claramente el rendimiento del modelo a manera de ejemplo, considerando el número de datos con el que cuenta y que sus valores de rendimiento son similares a los promedio del modelo."
      ]
    },
    {
      "cell_type": "code",
      "metadata": {
        "id": "G9VhIXGzMwiI"
      },
      "source": [
        "df_MON= df[df.id_station==\"MON\"]"
      ],
      "execution_count": 24,
      "outputs": []
    },
    {
      "cell_type": "code",
      "metadata": {
        "colab": {
          "base_uri": "https://localhost:8080/",
          "height": 575
        },
        "id": "nw-vPyBr-Dl2",
        "outputId": "49a345a9-883d-4ca2-aa5c-2a311a4281ac"
      },
      "source": [
        "df_MON.head(10)"
      ],
      "execution_count": 25,
      "outputs": [
        {
          "output_type": "execute_result",
          "data": {
            "text/html": [
              "<div>\n",
              "<style scoped>\n",
              "    .dataframe tbody tr th:only-of-type {\n",
              "        vertical-align: middle;\n",
              "    }\n",
              "\n",
              "    .dataframe tbody tr th {\n",
              "        vertical-align: top;\n",
              "    }\n",
              "\n",
              "    .dataframe thead th {\n",
              "        text-align: right;\n",
              "    }\n",
              "</style>\n",
              "<table border=\"1\" class=\"dataframe\">\n",
              "  <thead>\n",
              "    <tr style=\"text-align: right;\">\n",
              "      <th></th>\n",
              "      <th>PM2_5</th>\n",
              "      <th>RH</th>\n",
              "      <th>TMP</th>\n",
              "      <th>WSP</th>\n",
              "      <th>dia_semana_sin</th>\n",
              "      <th>juliano_sin</th>\n",
              "      <th>dia_semana_cos</th>\n",
              "      <th>juliano_cos</th>\n",
              "      <th>0</th>\n",
              "      <th>1</th>\n",
              "      <th>2</th>\n",
              "      <th>3</th>\n",
              "      <th>4</th>\n",
              "      <th>5</th>\n",
              "      <th>6</th>\n",
              "      <th>7</th>\n",
              "      <th>8</th>\n",
              "      <th>9</th>\n",
              "      <th>10</th>\n",
              "      <th>11</th>\n",
              "      <th>12</th>\n",
              "      <th>13</th>\n",
              "      <th>14</th>\n",
              "      <th>15</th>\n",
              "      <th>16</th>\n",
              "      <th>17</th>\n",
              "      <th>18</th>\n",
              "      <th>19</th>\n",
              "      <th>20</th>\n",
              "      <th>21</th>\n",
              "      <th>22</th>\n",
              "      <th>pred_NN</th>\n",
              "      <th>indice_real</th>\n",
              "      <th>AQI_real</th>\n",
              "      <th>indice_pred</th>\n",
              "      <th>AQI_pred</th>\n",
              "      <th>zone</th>\n",
              "      <th>id_station</th>\n",
              "      <th>error_abs</th>\n",
              "      <th>accuracy</th>\n",
              "      <th>NumAQI_real</th>\n",
              "      <th>NumAQI_pred</th>\n",
              "      <th>Dir_error</th>\n",
              "    </tr>\n",
              "    <tr>\n",
              "      <th>date</th>\n",
              "      <th></th>\n",
              "      <th></th>\n",
              "      <th></th>\n",
              "      <th></th>\n",
              "      <th></th>\n",
              "      <th></th>\n",
              "      <th></th>\n",
              "      <th></th>\n",
              "      <th></th>\n",
              "      <th></th>\n",
              "      <th></th>\n",
              "      <th></th>\n",
              "      <th></th>\n",
              "      <th></th>\n",
              "      <th></th>\n",
              "      <th></th>\n",
              "      <th></th>\n",
              "      <th></th>\n",
              "      <th></th>\n",
              "      <th></th>\n",
              "      <th></th>\n",
              "      <th></th>\n",
              "      <th></th>\n",
              "      <th></th>\n",
              "      <th></th>\n",
              "      <th></th>\n",
              "      <th></th>\n",
              "      <th></th>\n",
              "      <th></th>\n",
              "      <th></th>\n",
              "      <th></th>\n",
              "      <th></th>\n",
              "      <th></th>\n",
              "      <th></th>\n",
              "      <th></th>\n",
              "      <th></th>\n",
              "      <th></th>\n",
              "      <th></th>\n",
              "      <th></th>\n",
              "      <th></th>\n",
              "      <th></th>\n",
              "      <th></th>\n",
              "      <th></th>\n",
              "    </tr>\n",
              "  </thead>\n",
              "  <tbody>\n",
              "    <tr>\n",
              "      <th>2019-01-02</th>\n",
              "      <td>23.476190</td>\n",
              "      <td>56.238095</td>\n",
              "      <td>12.457143</td>\n",
              "      <td>2.352381</td>\n",
              "      <td>0.974928</td>\n",
              "      <td>0.034328</td>\n",
              "      <td>-0.222521</td>\n",
              "      <td>0.999411</td>\n",
              "      <td>0.0</td>\n",
              "      <td>0.0</td>\n",
              "      <td>0.0</td>\n",
              "      <td>0.0</td>\n",
              "      <td>0.0</td>\n",
              "      <td>0.0</td>\n",
              "      <td>0.0</td>\n",
              "      <td>0.0</td>\n",
              "      <td>1.0</td>\n",
              "      <td>0.0</td>\n",
              "      <td>0.0</td>\n",
              "      <td>0.0</td>\n",
              "      <td>0.0</td>\n",
              "      <td>0.0</td>\n",
              "      <td>0.0</td>\n",
              "      <td>0.0</td>\n",
              "      <td>0.0</td>\n",
              "      <td>0.0</td>\n",
              "      <td>0.0</td>\n",
              "      <td>1.0</td>\n",
              "      <td>0.0</td>\n",
              "      <td>0.0</td>\n",
              "      <td>0.0</td>\n",
              "      <td>16.470783</td>\n",
              "      <td>74.924</td>\n",
              "      <td>Regular</td>\n",
              "      <td>60.192</td>\n",
              "      <td>Regular</td>\n",
              "      <td>NE</td>\n",
              "      <td>MON</td>\n",
              "      <td>7.005407</td>\n",
              "      <td>True</td>\n",
              "      <td>1</td>\n",
              "      <td>1</td>\n",
              "      <td>0</td>\n",
              "    </tr>\n",
              "    <tr>\n",
              "      <th>2019-01-03</th>\n",
              "      <td>22.000000</td>\n",
              "      <td>46.875000</td>\n",
              "      <td>12.670833</td>\n",
              "      <td>1.741667</td>\n",
              "      <td>0.433884</td>\n",
              "      <td>0.051479</td>\n",
              "      <td>-0.900969</td>\n",
              "      <td>0.998674</td>\n",
              "      <td>0.0</td>\n",
              "      <td>0.0</td>\n",
              "      <td>0.0</td>\n",
              "      <td>0.0</td>\n",
              "      <td>0.0</td>\n",
              "      <td>0.0</td>\n",
              "      <td>0.0</td>\n",
              "      <td>0.0</td>\n",
              "      <td>1.0</td>\n",
              "      <td>0.0</td>\n",
              "      <td>0.0</td>\n",
              "      <td>0.0</td>\n",
              "      <td>0.0</td>\n",
              "      <td>0.0</td>\n",
              "      <td>0.0</td>\n",
              "      <td>0.0</td>\n",
              "      <td>0.0</td>\n",
              "      <td>0.0</td>\n",
              "      <td>0.0</td>\n",
              "      <td>1.0</td>\n",
              "      <td>0.0</td>\n",
              "      <td>0.0</td>\n",
              "      <td>0.0</td>\n",
              "      <td>21.884976</td>\n",
              "      <td>71.820</td>\n",
              "      <td>Regular</td>\n",
              "      <td>71.578</td>\n",
              "      <td>Regular</td>\n",
              "      <td>NE</td>\n",
              "      <td>MON</td>\n",
              "      <td>0.115024</td>\n",
              "      <td>True</td>\n",
              "      <td>1</td>\n",
              "      <td>1</td>\n",
              "      <td>0</td>\n",
              "    </tr>\n",
              "    <tr>\n",
              "      <th>2019-01-04</th>\n",
              "      <td>23.700000</td>\n",
              "      <td>46.150000</td>\n",
              "      <td>15.080000</td>\n",
              "      <td>1.745000</td>\n",
              "      <td>-0.433884</td>\n",
              "      <td>0.068615</td>\n",
              "      <td>-0.900969</td>\n",
              "      <td>0.997643</td>\n",
              "      <td>0.0</td>\n",
              "      <td>0.0</td>\n",
              "      <td>0.0</td>\n",
              "      <td>0.0</td>\n",
              "      <td>0.0</td>\n",
              "      <td>0.0</td>\n",
              "      <td>0.0</td>\n",
              "      <td>0.0</td>\n",
              "      <td>1.0</td>\n",
              "      <td>0.0</td>\n",
              "      <td>0.0</td>\n",
              "      <td>0.0</td>\n",
              "      <td>0.0</td>\n",
              "      <td>0.0</td>\n",
              "      <td>0.0</td>\n",
              "      <td>0.0</td>\n",
              "      <td>0.0</td>\n",
              "      <td>0.0</td>\n",
              "      <td>0.0</td>\n",
              "      <td>1.0</td>\n",
              "      <td>0.0</td>\n",
              "      <td>0.0</td>\n",
              "      <td>0.0</td>\n",
              "      <td>23.250391</td>\n",
              "      <td>75.395</td>\n",
              "      <td>Regular</td>\n",
              "      <td>74.449</td>\n",
              "      <td>Regular</td>\n",
              "      <td>NE</td>\n",
              "      <td>MON</td>\n",
              "      <td>0.449609</td>\n",
              "      <td>True</td>\n",
              "      <td>1</td>\n",
              "      <td>1</td>\n",
              "      <td>0</td>\n",
              "    </tr>\n",
              "    <tr>\n",
              "      <th>2019-01-05</th>\n",
              "      <td>34.500000</td>\n",
              "      <td>52.550000</td>\n",
              "      <td>15.210000</td>\n",
              "      <td>1.250000</td>\n",
              "      <td>-0.974928</td>\n",
              "      <td>0.085731</td>\n",
              "      <td>-0.222521</td>\n",
              "      <td>0.996318</td>\n",
              "      <td>0.0</td>\n",
              "      <td>0.0</td>\n",
              "      <td>0.0</td>\n",
              "      <td>0.0</td>\n",
              "      <td>0.0</td>\n",
              "      <td>0.0</td>\n",
              "      <td>0.0</td>\n",
              "      <td>0.0</td>\n",
              "      <td>1.0</td>\n",
              "      <td>0.0</td>\n",
              "      <td>0.0</td>\n",
              "      <td>0.0</td>\n",
              "      <td>0.0</td>\n",
              "      <td>0.0</td>\n",
              "      <td>0.0</td>\n",
              "      <td>0.0</td>\n",
              "      <td>0.0</td>\n",
              "      <td>0.0</td>\n",
              "      <td>0.0</td>\n",
              "      <td>1.0</td>\n",
              "      <td>0.0</td>\n",
              "      <td>0.0</td>\n",
              "      <td>0.0</td>\n",
              "      <td>27.462346</td>\n",
              "      <td>98.107</td>\n",
              "      <td>Regular</td>\n",
              "      <td>83.307</td>\n",
              "      <td>Regular</td>\n",
              "      <td>NE</td>\n",
              "      <td>MON</td>\n",
              "      <td>7.037654</td>\n",
              "      <td>True</td>\n",
              "      <td>1</td>\n",
              "      <td>1</td>\n",
              "      <td>0</td>\n",
              "    </tr>\n",
              "    <tr>\n",
              "      <th>2019-01-06</th>\n",
              "      <td>26.695652</td>\n",
              "      <td>48.826087</td>\n",
              "      <td>15.669565</td>\n",
              "      <td>1.526087</td>\n",
              "      <td>-0.781831</td>\n",
              "      <td>0.102821</td>\n",
              "      <td>0.623490</td>\n",
              "      <td>0.994700</td>\n",
              "      <td>0.0</td>\n",
              "      <td>0.0</td>\n",
              "      <td>0.0</td>\n",
              "      <td>0.0</td>\n",
              "      <td>0.0</td>\n",
              "      <td>0.0</td>\n",
              "      <td>0.0</td>\n",
              "      <td>0.0</td>\n",
              "      <td>1.0</td>\n",
              "      <td>0.0</td>\n",
              "      <td>0.0</td>\n",
              "      <td>0.0</td>\n",
              "      <td>0.0</td>\n",
              "      <td>0.0</td>\n",
              "      <td>0.0</td>\n",
              "      <td>0.0</td>\n",
              "      <td>0.0</td>\n",
              "      <td>0.0</td>\n",
              "      <td>0.0</td>\n",
              "      <td>1.0</td>\n",
              "      <td>0.0</td>\n",
              "      <td>0.0</td>\n",
              "      <td>0.0</td>\n",
              "      <td>23.840759</td>\n",
              "      <td>81.695</td>\n",
              "      <td>Regular</td>\n",
              "      <td>75.691</td>\n",
              "      <td>Regular</td>\n",
              "      <td>NE</td>\n",
              "      <td>MON</td>\n",
              "      <td>2.854893</td>\n",
              "      <td>True</td>\n",
              "      <td>1</td>\n",
              "      <td>1</td>\n",
              "      <td>0</td>\n",
              "    </tr>\n",
              "    <tr>\n",
              "      <th>2019-01-07</th>\n",
              "      <td>22.523810</td>\n",
              "      <td>46.000000</td>\n",
              "      <td>15.400000</td>\n",
              "      <td>2.447619</td>\n",
              "      <td>0.000000</td>\n",
              "      <td>0.119881</td>\n",
              "      <td>1.000000</td>\n",
              "      <td>0.992788</td>\n",
              "      <td>0.0</td>\n",
              "      <td>0.0</td>\n",
              "      <td>0.0</td>\n",
              "      <td>0.0</td>\n",
              "      <td>0.0</td>\n",
              "      <td>0.0</td>\n",
              "      <td>0.0</td>\n",
              "      <td>0.0</td>\n",
              "      <td>1.0</td>\n",
              "      <td>0.0</td>\n",
              "      <td>0.0</td>\n",
              "      <td>0.0</td>\n",
              "      <td>0.0</td>\n",
              "      <td>0.0</td>\n",
              "      <td>0.0</td>\n",
              "      <td>0.0</td>\n",
              "      <td>0.0</td>\n",
              "      <td>0.0</td>\n",
              "      <td>0.0</td>\n",
              "      <td>1.0</td>\n",
              "      <td>0.0</td>\n",
              "      <td>0.0</td>\n",
              "      <td>0.0</td>\n",
              "      <td>15.869579</td>\n",
              "      <td>72.921</td>\n",
              "      <td>Regular</td>\n",
              "      <td>58.927</td>\n",
              "      <td>Regular</td>\n",
              "      <td>NE</td>\n",
              "      <td>MON</td>\n",
              "      <td>6.654230</td>\n",
              "      <td>True</td>\n",
              "      <td>1</td>\n",
              "      <td>1</td>\n",
              "      <td>0</td>\n",
              "    </tr>\n",
              "    <tr>\n",
              "      <th>2019-01-08</th>\n",
              "      <td>20.166667</td>\n",
              "      <td>35.444444</td>\n",
              "      <td>13.783333</td>\n",
              "      <td>1.388889</td>\n",
              "      <td>0.781831</td>\n",
              "      <td>0.136906</td>\n",
              "      <td>0.623490</td>\n",
              "      <td>0.990584</td>\n",
              "      <td>0.0</td>\n",
              "      <td>0.0</td>\n",
              "      <td>0.0</td>\n",
              "      <td>0.0</td>\n",
              "      <td>0.0</td>\n",
              "      <td>0.0</td>\n",
              "      <td>0.0</td>\n",
              "      <td>0.0</td>\n",
              "      <td>1.0</td>\n",
              "      <td>0.0</td>\n",
              "      <td>0.0</td>\n",
              "      <td>0.0</td>\n",
              "      <td>0.0</td>\n",
              "      <td>0.0</td>\n",
              "      <td>0.0</td>\n",
              "      <td>0.0</td>\n",
              "      <td>0.0</td>\n",
              "      <td>0.0</td>\n",
              "      <td>0.0</td>\n",
              "      <td>1.0</td>\n",
              "      <td>0.0</td>\n",
              "      <td>0.0</td>\n",
              "      <td>0.0</td>\n",
              "      <td>26.670396</td>\n",
              "      <td>67.964</td>\n",
              "      <td>Regular</td>\n",
              "      <td>81.642</td>\n",
              "      <td>Regular</td>\n",
              "      <td>NE</td>\n",
              "      <td>MON</td>\n",
              "      <td>6.503729</td>\n",
              "      <td>True</td>\n",
              "      <td>1</td>\n",
              "      <td>1</td>\n",
              "      <td>0</td>\n",
              "    </tr>\n",
              "    <tr>\n",
              "      <th>2019-01-09</th>\n",
              "      <td>28.222222</td>\n",
              "      <td>50.722222</td>\n",
              "      <td>12.961111</td>\n",
              "      <td>1.494444</td>\n",
              "      <td>0.974928</td>\n",
              "      <td>0.153891</td>\n",
              "      <td>-0.222521</td>\n",
              "      <td>0.988088</td>\n",
              "      <td>0.0</td>\n",
              "      <td>0.0</td>\n",
              "      <td>0.0</td>\n",
              "      <td>0.0</td>\n",
              "      <td>0.0</td>\n",
              "      <td>0.0</td>\n",
              "      <td>0.0</td>\n",
              "      <td>0.0</td>\n",
              "      <td>1.0</td>\n",
              "      <td>0.0</td>\n",
              "      <td>0.0</td>\n",
              "      <td>0.0</td>\n",
              "      <td>0.0</td>\n",
              "      <td>0.0</td>\n",
              "      <td>0.0</td>\n",
              "      <td>0.0</td>\n",
              "      <td>0.0</td>\n",
              "      <td>0.0</td>\n",
              "      <td>0.0</td>\n",
              "      <td>1.0</td>\n",
              "      <td>0.0</td>\n",
              "      <td>0.0</td>\n",
              "      <td>0.0</td>\n",
              "      <td>25.336861</td>\n",
              "      <td>84.905</td>\n",
              "      <td>Regular</td>\n",
              "      <td>78.837</td>\n",
              "      <td>Regular</td>\n",
              "      <td>NE</td>\n",
              "      <td>MON</td>\n",
              "      <td>2.885361</td>\n",
              "      <td>True</td>\n",
              "      <td>1</td>\n",
              "      <td>1</td>\n",
              "      <td>0</td>\n",
              "    </tr>\n",
              "    <tr>\n",
              "      <th>2019-01-10</th>\n",
              "      <td>22.083333</td>\n",
              "      <td>60.833333</td>\n",
              "      <td>13.841667</td>\n",
              "      <td>1.812500</td>\n",
              "      <td>0.433884</td>\n",
              "      <td>0.170830</td>\n",
              "      <td>-0.900969</td>\n",
              "      <td>0.985301</td>\n",
              "      <td>0.0</td>\n",
              "      <td>0.0</td>\n",
              "      <td>0.0</td>\n",
              "      <td>0.0</td>\n",
              "      <td>0.0</td>\n",
              "      <td>0.0</td>\n",
              "      <td>0.0</td>\n",
              "      <td>0.0</td>\n",
              "      <td>1.0</td>\n",
              "      <td>0.0</td>\n",
              "      <td>0.0</td>\n",
              "      <td>0.0</td>\n",
              "      <td>0.0</td>\n",
              "      <td>0.0</td>\n",
              "      <td>0.0</td>\n",
              "      <td>0.0</td>\n",
              "      <td>0.0</td>\n",
              "      <td>0.0</td>\n",
              "      <td>0.0</td>\n",
              "      <td>1.0</td>\n",
              "      <td>0.0</td>\n",
              "      <td>0.0</td>\n",
              "      <td>0.0</td>\n",
              "      <td>20.425737</td>\n",
              "      <td>71.995</td>\n",
              "      <td>Regular</td>\n",
              "      <td>68.509</td>\n",
              "      <td>Regular</td>\n",
              "      <td>NE</td>\n",
              "      <td>MON</td>\n",
              "      <td>1.657596</td>\n",
              "      <td>True</td>\n",
              "      <td>1</td>\n",
              "      <td>1</td>\n",
              "      <td>0</td>\n",
              "    </tr>\n",
              "    <tr>\n",
              "      <th>2019-01-11</th>\n",
              "      <td>18.434783</td>\n",
              "      <td>53.173913</td>\n",
              "      <td>15.121739</td>\n",
              "      <td>1.773913</td>\n",
              "      <td>-0.433884</td>\n",
              "      <td>0.187719</td>\n",
              "      <td>-0.900969</td>\n",
              "      <td>0.982223</td>\n",
              "      <td>0.0</td>\n",
              "      <td>0.0</td>\n",
              "      <td>0.0</td>\n",
              "      <td>0.0</td>\n",
              "      <td>0.0</td>\n",
              "      <td>0.0</td>\n",
              "      <td>0.0</td>\n",
              "      <td>0.0</td>\n",
              "      <td>1.0</td>\n",
              "      <td>0.0</td>\n",
              "      <td>0.0</td>\n",
              "      <td>0.0</td>\n",
              "      <td>0.0</td>\n",
              "      <td>0.0</td>\n",
              "      <td>0.0</td>\n",
              "      <td>0.0</td>\n",
              "      <td>0.0</td>\n",
              "      <td>0.0</td>\n",
              "      <td>0.0</td>\n",
              "      <td>1.0</td>\n",
              "      <td>0.0</td>\n",
              "      <td>0.0</td>\n",
              "      <td>0.0</td>\n",
              "      <td>22.475096</td>\n",
              "      <td>64.322</td>\n",
              "      <td>Regular</td>\n",
              "      <td>72.819</td>\n",
              "      <td>Regular</td>\n",
              "      <td>NE</td>\n",
              "      <td>MON</td>\n",
              "      <td>4.040313</td>\n",
              "      <td>True</td>\n",
              "      <td>1</td>\n",
              "      <td>1</td>\n",
              "      <td>0</td>\n",
              "    </tr>\n",
              "  </tbody>\n",
              "</table>\n",
              "</div>"
            ],
            "text/plain": [
              "                PM2_5         RH  ...  NumAQI_pred  Dir_error\n",
              "date                              ...                        \n",
              "2019-01-02  23.476190  56.238095  ...            1          0\n",
              "2019-01-03  22.000000  46.875000  ...            1          0\n",
              "2019-01-04  23.700000  46.150000  ...            1          0\n",
              "2019-01-05  34.500000  52.550000  ...            1          0\n",
              "2019-01-06  26.695652  48.826087  ...            1          0\n",
              "2019-01-07  22.523810  46.000000  ...            1          0\n",
              "2019-01-08  20.166667  35.444444  ...            1          0\n",
              "2019-01-09  28.222222  50.722222  ...            1          0\n",
              "2019-01-10  22.083333  60.833333  ...            1          0\n",
              "2019-01-11  18.434783  53.173913  ...            1          0\n",
              "\n",
              "[10 rows x 43 columns]"
            ]
          },
          "metadata": {
            "tags": []
          },
          "execution_count": 25
        }
      ]
    },
    {
      "cell_type": "markdown",
      "metadata": {
        "id": "1RFyqu_W90KM"
      },
      "source": [
        "#Gráficas\n",
        "\n",
        "En el siguiente apartado se muestra la realización de las gráficas de la serie de tiempo para la estación MON"
      ]
    },
    {
      "cell_type": "code",
      "metadata": {
        "colab": {
          "base_uri": "https://localhost:8080/",
          "height": 466
        },
        "id": "wk5Zm0EMWkfD",
        "outputId": "b0c74b71-014a-4158-c368-7a9f462cf81e"
      },
      "source": [
        "\n",
        "fig, ax = plt.subplots(figsize=(12, 8))\n",
        "ax.plot(df_MON['PM2_5'], color= \"#6349fc\", label = \"Predicho\")\n",
        "ax.plot(df_MON['pred_NN'], color= \"#0d017f\", label = \"Real\")\n",
        "# format the ticks\n",
        "\n",
        "ax.set_xticklabels(['Enero', 'Febrero','Marzo', 'Abril','Mayo', 'Junio', 'Julio', 'Agosto', 'Septiembre','Octubre', 'Noviembre', 'Diciembre'])\n",
        "# round to nearest years.\n",
        "ax.set_xticks([1,30,55,79,97,109,130,159,186,210,240,267])\n",
        "\n",
        "\n",
        "# format the coords message box\n",
        "ax.grid(True)\n",
        "plt.axhline(y=0.0, color= \"green\")\n",
        "plt.axhline(y=12.1, color= \"yellow\")\n",
        "plt.axhline(y=35.5, color= \"orange\")\n",
        "\n",
        "\n",
        "# rotates and right aligns the x labels, and moves the bottom of the\n",
        "# axes up to make room for them\n",
        "fig.autofmt_xdate()\n",
        "plt.grid(which='major',linestyle=\"--\",linewidth='0.8')\n",
        "\n",
        "plt.legend()\n",
        "plt.show()"
      ],
      "execution_count": 26,
      "outputs": [
        {
          "output_type": "display_data",
          "data": {
            "image/png": "[encoded data removed]",
            "text/plain": [
              "<Figure size 864x576 with 1 Axes>"
            ]
          },
          "metadata": {
            "tags": [],
            "needs_background": "light"
          }
        }
      ]
    },
    {
      "cell_type": "code",
      "metadata": {
        "colab": {
          "base_uri": "https://localhost:8080/",
          "height": 16
        },
        "id": "1c8uQ-2KzmRk",
        "outputId": "39596da9-e0c2-43b7-c521-9dbd53e67880"
      },
      "source": [
        "#Para exportar el gráfico\n",
        "from google.colab import files\n",
        "fig.savefig(\"GraficaMO.png\", bbox_inches = 'tight')\n",
        "files.download(\"GraficaMO.png\") "
      ],
      "execution_count": null,
      "outputs": [
        {
          "output_type": "display_data",
          "data": {
            "application/javascript": [
              "\n",
              "    async function download(id, filename, size) {\n",
              "      if (!google.colab.kernel.accessAllowed) {\n",
              "        return;\n",
              "      }\n",
              "      const div = document.createElement('div');\n",
              "      const label = document.createElement('label');\n",
              "      label.textContent = `Downloading \"${filename}\": `;\n",
              "      div.appendChild(label);\n",
              "      const progress = document.createElement('progress');\n",
              "      progress.max = size;\n",
              "      div.appendChild(progress);\n",
              "      document.body.appendChild(div);\n",
              "\n",
              "      const buffers = [];\n",
              "      let downloaded = 0;\n",
              "\n",
              "      const channel = await google.colab.kernel.comms.open(id);\n",
              "      // Send a message to notify the kernel that we're ready.\n",
              "      channel.send({})\n",
              "\n",
              "      for await (const message of channel.messages) {\n",
              "        // Send a message to notify the kernel that we're ready.\n",
              "        channel.send({})\n",
              "        if (message.buffers) {\n",
              "          for (const buffer of message.buffers) {\n",
              "            buffers.push(buffer);\n",
              "            downloaded += buffer.byteLength;\n",
              "            progress.value = downloaded;\n",
              "          }\n",
              "        }\n",
              "      }\n",
              "      const blob = new Blob(buffers, {type: 'application/binary'});\n",
              "      const a = document.createElement('a');\n",
              "      a.href = window.URL.createObjectURL(blob);\n",
              "      a.download = filename;\n",
              "      div.appendChild(a);\n",
              "      a.click();\n",
              "      div.remove();\n",
              "    }\n",
              "  "
            ],
            "text/plain": [
              "<IPython.core.display.Javascript object>"
            ]
          },
          "metadata": {
            "tags": []
          }
        },
        {
          "output_type": "display_data",
          "data": {
            "application/javascript": [
              "download(\"download_b0d2aab3-fe37-4385-9577-b9a9cdaa7c12\", \"GraficaMO.png\", 117337)"
            ],
            "text/plain": [
              "<IPython.core.display.Javascript object>"
            ]
          },
          "metadata": {
            "tags": []
          }
        }
      ]
    },
    {
      "cell_type": "markdown",
      "metadata": {
        "id": "R8qXTvM0mOAo"
      },
      "source": [
        "Ahora se realiza un gráfico para conocer la clasificación de la calidad del aire que se obtuvo en la realidad y con la predicción del modelo, para los datos de esta estación en 2019"
      ]
    },
    {
      "cell_type": "code",
      "metadata": {
        "id": "ZMbcB6BlDSKP"
      },
      "source": [
        "df_calidad_MON=pd.DataFrame(df_MON[['AQI_real','AQI_pred']].stack(level=0))"
      ],
      "execution_count": 27,
      "outputs": []
    },
    {
      "cell_type": "code",
      "metadata": {
        "id": "p9cPfTGQGCnj"
      },
      "source": [
        "df_calidad_MON.to_csv('Datos_MON.csv')"
      ],
      "execution_count": 28,
      "outputs": []
    },
    {
      "cell_type": "code",
      "metadata": {
        "id": "brUmvsMSExPY"
      },
      "source": [
        "df_calidad_MON=pd.read_csv('/content/Datos_MON.csv')"
      ],
      "execution_count": 29,
      "outputs": []
    },
    {
      "cell_type": "code",
      "metadata": {
        "colab": {
          "base_uri": "https://localhost:8080/",
          "height": 202
        },
        "id": "yj7a8KkdHnxB",
        "outputId": "a4c9a687-3e07-464a-d55c-5a11c2fdb011"
      },
      "source": [
        "df_calidad_MON.head()"
      ],
      "execution_count": 30,
      "outputs": [
        {
          "output_type": "execute_result",
          "data": {
            "text/html": [
              "<div>\n",
              "<style scoped>\n",
              "    .dataframe tbody tr th:only-of-type {\n",
              "        vertical-align: middle;\n",
              "    }\n",
              "\n",
              "    .dataframe tbody tr th {\n",
              "        vertical-align: top;\n",
              "    }\n",
              "\n",
              "    .dataframe thead th {\n",
              "        text-align: right;\n",
              "    }\n",
              "</style>\n",
              "<table border=\"1\" class=\"dataframe\">\n",
              "  <thead>\n",
              "    <tr style=\"text-align: right;\">\n",
              "      <th></th>\n",
              "      <th>date</th>\n",
              "      <th>Unnamed: 1</th>\n",
              "      <th>0</th>\n",
              "    </tr>\n",
              "  </thead>\n",
              "  <tbody>\n",
              "    <tr>\n",
              "      <th>0</th>\n",
              "      <td>2019-01-02</td>\n",
              "      <td>AQI_real</td>\n",
              "      <td>Regular</td>\n",
              "    </tr>\n",
              "    <tr>\n",
              "      <th>1</th>\n",
              "      <td>2019-01-02</td>\n",
              "      <td>AQI_pred</td>\n",
              "      <td>Regular</td>\n",
              "    </tr>\n",
              "    <tr>\n",
              "      <th>2</th>\n",
              "      <td>2019-01-03</td>\n",
              "      <td>AQI_real</td>\n",
              "      <td>Regular</td>\n",
              "    </tr>\n",
              "    <tr>\n",
              "      <th>3</th>\n",
              "      <td>2019-01-03</td>\n",
              "      <td>AQI_pred</td>\n",
              "      <td>Regular</td>\n",
              "    </tr>\n",
              "    <tr>\n",
              "      <th>4</th>\n",
              "      <td>2019-01-04</td>\n",
              "      <td>AQI_real</td>\n",
              "      <td>Regular</td>\n",
              "    </tr>\n",
              "  </tbody>\n",
              "</table>\n",
              "</div>"
            ],
            "text/plain": [
              "         date Unnamed: 1        0\n",
              "0  2019-01-02   AQI_real  Regular\n",
              "1  2019-01-02   AQI_pred  Regular\n",
              "2  2019-01-03   AQI_real  Regular\n",
              "3  2019-01-03   AQI_pred  Regular\n",
              "4  2019-01-04   AQI_real  Regular"
            ]
          },
          "metadata": {
            "tags": []
          },
          "execution_count": 30
        }
      ]
    },
    {
      "cell_type": "code",
      "metadata": {
        "id": "abVxmFXOHrNO"
      },
      "source": [
        "df_calidad_MON= df_calidad_MON.set_index('date')"
      ],
      "execution_count": 31,
      "outputs": []
    },
    {
      "cell_type": "code",
      "metadata": {
        "id": "GLvP1JEAiY2k"
      },
      "source": [
        "#Cambiar el nombre de las variables para que los yticklabel se coloquen correctamente\n",
        "df_calidad_MON[['Unnamed: 1']]= df_calidad_MON[['Unnamed: 1']].replace('AQI_pred', 'AQI predicha')\n",
        "df_calidad_MON[['Unnamed: 1']]= df_calidad_MON[['Unnamed: 1']].replace('AQI_real', 'AQI real')"
      ],
      "execution_count": 32,
      "outputs": []
    },
    {
      "cell_type": "code",
      "metadata": {
        "colab": {
          "base_uri": "https://localhost:8080/",
          "height": 528
        },
        "id": "NdFQBEuoJbGI",
        "outputId": "2c26a486-7a82-4b1e-a4ac-0ab8d264c8df"
      },
      "source": [
        "fig, ax = plt.subplots(figsize=(12, 16))\n",
        "#Definir la escala de colores de acuerdo con la normatividad de calidad del aire\n",
        "colors = {'Buena':'green', 'Regular':'yellow', 'Mala':'orange'}\n",
        "\n",
        "ax.scatter(df_calidad_MON.index,df_calidad_MON['Unnamed: 1'], c=df_calidad_MON['0'].map(colors), s= 5000, marker= \"s\")\n",
        "#Realizar los segmentos de acuerdo con los meses de las mediciones\n",
        "ax.set_xticklabels(['Enero', 'Febrero','Marzo', 'Abril','Mayo', 'Junio', 'Julio', 'Agosto', 'Septiembre','Octubre', 'Noviembre', 'Diciembre'], fontsize= 14)\n",
        "# round to nearest years.\n",
        "ax.set_xticks([1,30,55,79,97,109,130,159,186,210,240,267])\n",
        "fig.autofmt_xdate(0.5)\n",
        "plt.setp(ax.get_yticklabels(), fontsize=16)\n",
        "plt.show()\n"
      ],
      "execution_count": 33,
      "outputs": [
        {
          "output_type": "display_data",
          "data": {
            "image/png": "[encoded data removed]",
            "text/plain": [
              "<Figure size 864x1152 with 1 Axes>"
            ]
          },
          "metadata": {
            "tags": [],
            "needs_background": "light"
          }
        }
      ]
    },
    {
      "cell_type": "code",
      "metadata": {
        "id": "_OOu_vxN55mA"
      },
      "source": [
        ""
      ],
      "execution_count": null,
      "outputs": []
    },
    {
      "cell_type": "code",
      "metadata": {
        "colab": {
          "base_uri": "https://localhost:8080/",
          "height": 16
        },
        "id": "MJQyNKkvkM0b",
        "outputId": "f548fd4b-3740-4e43-c4ea-d289072088aa"
      },
      "source": [
        "from google.colab import files\n",
        "fig.savefig(\"GraficaCalor.png\", bbox_inches = 'tight')\n",
        "files.download(\"GraficaCalor.png\") "
      ],
      "execution_count": null,
      "outputs": [
        {
          "output_type": "display_data",
          "data": {
            "application/javascript": [
              "\n",
              "    async function download(id, filename, size) {\n",
              "      if (!google.colab.kernel.accessAllowed) {\n",
              "        return;\n",
              "      }\n",
              "      const div = document.createElement('div');\n",
              "      const label = document.createElement('label');\n",
              "      label.textContent = `Downloading \"${filename}\": `;\n",
              "      div.appendChild(label);\n",
              "      const progress = document.createElement('progress');\n",
              "      progress.max = size;\n",
              "      div.appendChild(progress);\n",
              "      document.body.appendChild(div);\n",
              "\n",
              "      const buffers = [];\n",
              "      let downloaded = 0;\n",
              "\n",
              "      const channel = await google.colab.kernel.comms.open(id);\n",
              "      // Send a message to notify the kernel that we're ready.\n",
              "      channel.send({})\n",
              "\n",
              "      for await (const message of channel.messages) {\n",
              "        // Send a message to notify the kernel that we're ready.\n",
              "        channel.send({})\n",
              "        if (message.buffers) {\n",
              "          for (const buffer of message.buffers) {\n",
              "            buffers.push(buffer);\n",
              "            downloaded += buffer.byteLength;\n",
              "            progress.value = downloaded;\n",
              "          }\n",
              "        }\n",
              "      }\n",
              "      const blob = new Blob(buffers, {type: 'application/binary'});\n",
              "      const a = document.createElement('a');\n",
              "      a.href = window.URL.createObjectURL(blob);\n",
              "      a.download = filename;\n",
              "      div.appendChild(a);\n",
              "      a.click();\n",
              "      div.remove();\n",
              "    }\n",
              "  "
            ],
            "text/plain": [
              "<IPython.core.display.Javascript object>"
            ]
          },
          "metadata": {
            "tags": []
          }
        },
        {
          "output_type": "display_data",
          "data": {
            "application/javascript": [
              "download(\"download_61ba7442-c70e-4b78-9e7b-ac0422f60217\", \"GraficaCalor.png\", 25286)"
            ],
            "text/plain": [
              "<IPython.core.display.Javascript object>"
            ]
          },
          "metadata": {
            "tags": []
          }
        }
      ]
    }
  ]
}